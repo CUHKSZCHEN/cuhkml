{
 "cells": [
  {
   "cell_type": "markdown",
   "metadata": {},
   "source": [
    "## 获取网页"
   ]
  },
  {
   "cell_type": "code",
   "execution_count": 1,
   "metadata": {
    "ExecuteTime": {
     "end_time": "2018-10-24T14:40:16.594781Z",
     "start_time": "2018-10-24T14:40:16.329527Z"
    }
   },
   "outputs": [],
   "source": [
    "import requests\n",
    "from bs4 import BeautifulSoup"
   ]
  },
  {
   "cell_type": "markdown",
   "metadata": {},
   "source": [
    "### 获取2017年 wide release的网页"
   ]
  },
  {
   "cell_type": "code",
   "execution_count": 3,
   "metadata": {
    "ExecuteTime": {
     "end_time": "2018-10-24T14:43:45.251291Z",
     "start_time": "2018-10-24T14:43:45.247899Z"
    }
   },
   "outputs": [],
   "source": [
    "link = \"https://www.boxofficemojo.com/yearly/chart/?view=widedate&view2=domestic&yr=2017&p=.htm\"\n",
    "headers = {'User-Agent' : 'Mozilla/5.0 (Windows; U; Windows NT 6.1; en-US; rv:1.9.1.6) Gecko/20091201 Firefox/3.5.6'} "
   ]
  },
  {
   "cell_type": "code",
   "execution_count": 4,
   "metadata": {
    "ExecuteTime": {
     "end_time": "2018-10-24T14:43:47.541564Z",
     "start_time": "2018-10-24T14:43:45.878882Z"
    }
   },
   "outputs": [],
   "source": [
    "r = requests.get(link, headers=headers)"
   ]
  },
  {
   "cell_type": "code",
   "execution_count": 5,
   "metadata": {
    "ExecuteTime": {
     "end_time": "2018-10-24T14:43:51.722720Z",
     "start_time": "2018-10-24T14:43:51.713353Z"
    }
   },
   "outputs": [
    {
     "name": "stdout",
     "output_type": "stream",
     "text": [
      "<!DOCTYPE html PUBLIC \"-//W3C//DTD HTML 4.01 Transitional//EN\" \"http://www.w3.org/TR/html4/loose.dtd\">\n",
      "<html lang=\"en\">\n",
      "<HEAD>\n",
      "<TITLE>2017 Yearly Box Office Results - Box Office Mojo</TITLE>\n",
      "<META NAME=\"keywords\" CONTENT=\"2017, year, yearly, box, office, result, list, movie, movies, listing, listings, top movies, all time, film\">\n",
      "<META NAME=\"description\" CONTENT=\"Yearly box office results for 2017.\">\n",
      "<link rel=\"stylesheet\" href=\"/css/mojo.css?1\" type=\"text/css\" media=\"screen\" title=\"no title\" charset=\"utf-8\">\n",
      "<link rel=\"stylesheet\" href=\"/css/mojo.css?1\" type=\"text/css\" media=\"print\" title=\"no title\" charset=\"utf-8\"></head>\n",
      "<body>\n",
      "\t<iframe id=\"sis_pixel_sitewide\" width=\"1\" height=\"1\" frameborder=\"0\" marginwidth=\"0\" marginheight=\"0\" style=\"display: none;\"></iframe>\n",
      "<script>\n",
      "    setTimeout(function(){\n",
      "        try{\n",
      "            //sis3.0 pixel\n",
      "            var cacheBust = Math.random() * 10000000000000000,\n",
      "                url_sis3 = '//s.amazon-adsystem.com/iu3?',\n",
      "                params_sis3 = [\n",
      "                    \"d=boxofficemojo.com\",\n",
      "                    \"cb=\" + cacheBust\n",
      "                ];\n",
      "\n",
      "            (document.getElementById('sis_pixel_sitewide')).src = url_sis3 + params_sis3.join('&');\n",
      "        }catch(e){\n",
      "            if (window.ueLogError) { \n",
      "                window.ueLogError(e);\n",
      "            }\n",
      "        }\n",
      "    }, 5);\n",
      "</script>\n",
      "\n",
      "<div id=\"container\">\n",
      "<div>\n",
      "<script type=\"text/javascript\">\n",
      "    var googletag = googletag || {};\n",
      "    googletag.cmd = googletag.cmd || [];\n",
      "\n",
      "    (function() {\n",
      "        var gads = document.createElement(\"script\");\n",
      "        gads.async = true;\n",
      "        gads.type = \"text/javascript\";\n",
      "\n",
      "        var useSSL = \"https:\" == document.location.protocol;\n",
      "        gads.src = (useSSL ? \"https:\" : \"http:\") + \"//www.googletagservices.com/tag/js/gpt.js\";\n",
      "\n",
      "        var node = document.getElementsByTagName(\"script\")[0];\n",
      "        node.parentNode.insertBefore(gads, node);\n",
      "    })();\n",
      "</script>\n",
      "\n",
      "<script type=\"text/javascript\">\n",
      "  var _gaq = _gaq || [];\n",
      "  _gaq.push(['_setAccount', 'UA-2831726-1']);\n",
      "  _gaq.push(['_trackPageview']);\n",
      "\n",
      "  (function() {\n",
      "    var ga = document.createElement('script'); ga.type = 'text/javascript'; ga.async = true;\n",
      "    ga.src = ('https:' == document.location.protocol ? 'https://ssl' : 'http://www') + '.google-analytics.com/ga.js';\n",
      "    (document.getElementsByTagName('head')[0] || document.getElementsByTagName('body')[0]).appendChild(ga);\n",
      "  })();\n",
      "\n",
      "</script>\n",
      "\n",
      "\t<div id=\"hp_banner\">\n",
      "\t<div id=\"top_links\">\n",
      "\t\t<div style=\"float: left\"><a href=\"/daily/chart/\">Daily Box Office (Mon.)</a> | <a href=\"/weekend/chart/\">Weekend Box Office (Oct. 19&ndash;21)</a> | <a href=\"/movies/?id=halloween2018.htm\">#1 Movie: 'Halloween (2018)'</a> | <a href=\"http://www.imdb.com/showtimes/?ref_=mojo\">Showtimes</a></div>\n",
      "\t\t<div style=\"float: right\">Updated 10/23/2018 1:02 P.M. Pacific Time</div>\n",
      "\t\t<div style=\"clear:both; height: 0px\"></div>\n",
      "\t</div>\n",
      "</div>\n",
      "\t\t\n",
      "<div id=\"header\">\n",
      "<div id=\"leaderboard\"><script src=\"//bs.serving-sys.com/Serving/adServer.bs?c=28&cn=display&pli=1073982656&w=728&h=90&ord=1540392227&z=0\"></script>\n",
      "<noscript>\n",
      "    <a href=\"//bs.serving-sys.com/Serving/adServer.bs?cn=brd&pli=1073982656&Page=&Pos=668343950\" target=\"_blank\">\n",
      "        <img src=\"//bs.serving-sys.com/Serving/adServer.bs?c=8&cn=display&pli=1073982656&Page=&Pos=668343950\" border=0 width=728 height=90>\n",
      "    </a>\n",
      "</noscript>\n",
      "</div>\n",
      "\t<div id=\"leaderboard\"><script type=\"text/javascript\">\n",
      "    googletag.cmd.push(function() {\n",
      "        googletag.defineSlot(\"/4215/imdb2.bom.other\", [[728, 90]], \"ad-slot-1\").addService(googletag.pubads().setTargeting(\"p\", \"t\"));\n",
      "        googletag.pubads().enableSingleRequest();\n",
      "        googletag.enableServices();\n",
      "    });\n",
      "    googletag.cmd.push(function() { googletag.display(\"ad-slot-1\"); });\n",
      "</script></div>\t<div id=\"hp_logo\"><a href=\"/\"><img src=\"/img/misc/bom_logo1.png\" width=\"245\" height=\"56\" alt=\"Box Office Mojo\"></a></div>\n",
      "\t<div style=\"clear:both; height: 0px\"></div>\n",
      "</div>\n",
      "\n",
      "\n",
      "</div>\n",
      "\n",
      "<div class=\"connect_nav\">\n",
      "    <ul>\n",
      "\t<li class=\"nl_link\">\n",
      "            <a href=\"http://pro.imdb.com/signup/index.html?rf=mojo_nb_hm&ref_=mojo_nb_hm\" target=\"_blank\">\n",
      "                <img src=\"/images/IMDbPro.png\" alt=\"Get industry info at IMDbPro\" height=\"20\" />\n",
      "            </a>\n",
      "        </li>\n",
      "\t<li class=\"nl_link\">\n",
      "            <a href=\"http://twitter.com/boxofficemojo\" target=\"_blank\">\n",
      "                <img src=\"/images/glyphicons-social-32-twitter@2x.png\" alt=\"Follow us on Twitter\" height=\"18\" />\n",
      "            </a>\n",
      "        </li>\n",
      "        <li class=\"nl_link\">\n",
      "            <a href=\"http://facebook.com/boxofficemojo\" target=\"_blank\">\n",
      "                <img src=\"/images/glyphicons-social-31-facebook@2x.png\" alt=\"Follow us on Facebook\" height=\"18\" />\n",
      "            </a>\n",
      "        </li>\n",
      "    </ul>\n",
      "</div>\n",
      "\n",
      "<div id=\"main\">\n",
      "<!-- COLUMN 1 of 4 -->\n",
      "\t<div id=\"leftnav\">\n",
      "<!-- google_ad_section_start(weight=ignore) -->\n",
      "<!-- <table id=\"navleft\" cellspacing=\"0\" cellpadding=\"2\" border=\"0\"> -->\n",
      "<ul id=\"leftnav\">\n",
      "<li class=\"nl_section\">Search Site</li>\n",
      "<li class=\"nl_link\" style=\"padding-left:0px\">\n",
      "\t<form name=\"searchbox\" method=\"POST\" action=\"/search/q.php\">\n",
      "\t<input name=\"q\"  type=\"text\" style=\"font-size: 9 pt; font-weight: bold; width: 90px;\"><br>\n",
      "\t<input type=\"submit\" value=\"Search...\" ></form> \n",
      "</li>\n",
      "<li class='nl_section'>Features</li>\n",
      "<li class='nl_link'><a href=\"/news/\">News</a></li>\n",
      "<li class='nl_link'><a href=\"/schedule/\">Release Sched.</a></li>\n",
      "<li class='nl_link'><a href=\"http://www.imdb.com/showtimes?ref_=mojo\">Showtimes<br/><span style=\"margin-left:7px;color: #999999; font-size: 9px;\">at <img src=\"/images/mojo_imdb_sm.png\"/></span></a></li>\n",
      "<li class='nl_section'>Box Office</li>\n",
      "<li class='nl_link'><a href=\"/daily/\">Daily</a></li>\n",
      "<li class='nl_link'><a href=\"/weekend/\">Weekend</a></li>\n",
      "<li class='nl_link'><a href=\"/weekly/\">Weekly</a></li>\n",
      "<li class='nl_link'><a href=\"/monthly/\">Monthly</a></li>\n",
      "<li class='nl_link'><a href=\"/quarterly/\">Quarterly</a></li>\n",
      "<li class='nl_link'><a href=\"/seasonal/\">Seasonal</a></li>\n",
      "<li class='nl_link_current'><a href=\"/yearly/\">Yearly</a></li>\n",
      "<li class='nl_link'><a href=\"/alltime/\">All Time</a></li>\n",
      "<li class='nl_link'><a href=\"/intl/\">International</a></li>\n",
      "<li class='nl_section'>Indices</li>\n",
      "<li class='nl_link'><a href=\"/studio/\">Studios</a></li>\n",
      "<li class='nl_link'><a href=\"/people/\">People</a></li>\n",
      "<li class='nl_link'><a href=\"/genres/\">Genres</a></li>\n",
      "<li class='nl_link'><a href=\"/franchises/\">Franchises</a></li>\n",
      "<li class='nl_link'><a href=\"/showdowns/\">Showdowns</a></li>\n",
      "<li class='nl_link'><a href=\"/counts/\">Theater Counts</a></li>\n",
      "</ul>\n",
      "</div>\n",
      "\t<div id=\"body\">\n",
      "\t<div id=\"addthis\"><table border=\"0\" cellspacing=\"0\" cellpadding=\"0\">\r\n",
      "<tr>\r\n",
      "<form method=\"POST\" action=\"/adjuster.php\" name=\"adjuster\">\r\n",
      "<input type=\"hidden\" name=\"returnURL\" value=\"/yearly/chart/?view=widedate&amp;view2=domestic&amp;yr=2017&amp;p=.htm\">\r\n",
      "<td valign=\"center\">\r\n",
      "  <font face=\"Verdana\" size=\"2\"><a href=\"/about/adjuster.htm\"><b>Adjuster:</b></a></font>\r\n",
      "  <select size=\"1\" name=\"ticketyr\" style=\"font-family: Verdana; font-size: 10pt\">\r\n",
      "  <option value=\"0\" selected>Actuals</option>\r\n",
      "  <option value=\"1\" >Est. Tckts</option>\r\n",
      "<script language=\"javascript\">\r\n",
      "  for(i=2018; i>=1933; i--) {\r\n",
      "  \tdocument.write('<option value=\"' + i + '\"');\r\n",
      "\tif(i=='0') document.write(' selected');\r\n",
      "\tdocument.write('>' + i );\r\n",
      "\tif(i=='0') document.write(', $' + '0.00');\r\n",
      "\tdocument.write('</option>');\r\n",
      "  }\r\n",
      "</script>\r\n",
      "  <option value=\"1929\" >1929</option>\r\n",
      "  <option value=\"1924\" >1924</option>\r\n",
      "  <option value=\"1910\" >1910</option>\r\n",
      "  </select><input type=\"submit\" name=\"Go\" value=\"Go\" style=\"font-size: 10pt; height: 22\">\r\n",
      "\r\n",
      "</td></form></tr></table>\r\n",
      "\r\n",
      "</div>\t\n",
      "\t<h2><a href=\"/yearly/\">Yearly Box Office</a></h2>\n",
      "\n",
      "\t<table border=\"0\" cellpadding=\"0\" cellspacing=\"0\" width=\"100%\">\n",
      "\t\t<tr><td bgcolor=\"#8b0000\" colspan=\"2\"><img src=\"/images/space.gif\" border=\"0\" width=\"1\" height=\"5\"></td></tr>\n",
      "\t</table>\n",
      "\t\n",
      "<table border=\"0\" width=\"100%\" cellspacing=\"0\" cellpadding=\"3\">\n",
      "\t<tr>\n",
      "\t\t<td bgcolor=\"#DCDCDC\" align=\"center\"><b><font face=\"Verdana\" size=\"1\"><a href=\"/yearly/chart/?view=releasedate&view2=domestic&yr=2017&p=.htm\">ALL RELEASES</a></font></b></td>\n",
      "\t\t<td bgcolor=\"#FFFFFF\" align=\"center\"><b><font face=\"Verdana\" size=\"1\"><a href=\"/yearly/chart/?view=widedate&view2=domestic&yr=2017&p=.htm\">WIDE RELEASES</font></b></td>\n",
      "\t\t<td bgcolor=\"#DCDCDC\" align=\"center\"><b><font face=\"Verdana\" size=\"1\"><a href=\"/yearly/chart/?view=limited&view2=domestic&yr=2017&p=.htm\">LIMITED RELEASES</font></b></td>\n",
      "\t\t\t\t<td bgcolor=\"#DCDCDC\" align=\"center\"><b><font face=\"Verdana\" size=\"1\"><a href=\"/yearly/chart/?view=calendargross&view2=domestic&yr=2017&p=.htm\">CALENDAR GROSSES</font></b></td>\n",
      "\t\t\t</tr>\n",
      "</table>\n",
      "<table border=\"0\" cellspacing=\"0\" cellpadding=\"0\" width=\"100%\"><tr><td valign=\"top\" align=\"center\"><br>\n",
      "<h1>2017 DOMESTIC GROSSES</h1><p>Total Grosses of Movies Released Wide in 2017</h1></b></FONT></p>\n",
      "\n",
      "<center><font face=\"Verdana\" size=\"4\"><b><font face=\"Verdana\" size=\"5\">#1&#150;100</font> - <a href=\"/yearly/chart/?page=2&view=widedate&view2=domestic&yr=2017&p=.htm\">#101&#150;165</a></b></font></center><table border=\"0\" cellspacing=\"0\" cellpadding=\"0\"><tr><td valign=\"bottom\"><font face=\"Verdana\" size=\"1\"><b><a href=\"/yearly/chart/?yr=2016&view=widedate&view2=domestic&sort=gross&order=DESC&&p=.htm\">&lt; Previous Year</a></b></font></td><td align=\"center\"><table border=\"0\" cellspacing=\"0\" cellpadding=\"0\">\n",
      "\t\t\t\t\t<form method=\"POST\" action=\"yearly.asof.php\" name=\"asofjump\">\n",
      "\t\t\t\t\t<tr><td><font face=\"Verdana\" size=\"1\"><br>Data as of:\n",
      "\t\t\t\t\t<select size=\"1\" name=\"asof\" style=\"font-size: 8pt\">\n",
      "\t\t\t\t\t<option selected value=\"today\">Today</option>\n",
      "\t\t\t\t\t<option  value=\"sametime\">Today in 2017</option>\n",
      "\t\t\t\t\t<option value=\"2017-01-31\">Jan. 31, 2017</option>\n",
      "\t\t\t\t\t<option value=\"2017-02-28\">Feb. 28, 2017</option>\n",
      "\t\t\t\t\t<option value=\"2017-03-31\">Mar. 31, 2017</option>\n",
      "\t\t\t\t\t<option value=\"2017-04-30\">Apr. 30, 2017</option>\n",
      "\t\t\t\t\t<option value=\"2017-05-31\">May 31, 2017</option>\n",
      "\t\t\t\t\t<option value=\"2017-06-30\">Jun. 30, 2017</option>\n",
      "\t\t\t\t\t<option value=\"2017-07-31\">Jul. 31, 2017</option>\n",
      "\t\t\t\t\t<option value=\"2017-08-31\">Aug. 31, 2017</option>\n",
      "\t\t\t\t\t<option value=\"2017-09-30\">Sep. 30, 2017</option>\n",
      "\t\t\t\t\t<option value=\"2017-10-31\">Oct. 31, 2017</option>\n",
      "\t\t\t\t\t<option value=\"2017-11-30\">Nov. 30, 2017</option>\n",
      "\t\t\t\t\t<option value=\"2017-12-31\">Dec. 31, 2017</option>\n",
      "\t\t\t\t\t<option value=\"specify\">Specify Date</option>\n",
      "\t\t\t\t\t<option value=\"about\">About this feature</option>\n",
      "\t\t\t\t\t</select> or (<select size=\"1\" name=\"asof_mo\" style=\"font-size: 8pt\">\n",
      "\t\t\t\t\t<option selected value=\"\">Month</option>\n",
      "\t\t\t\t\t\n",
      "\t\t\t\t\t<option value=\"01\">Jan.</option>\n",
      "\t\t\t\t\t<option value=\"02\">Feb.</option>\n",
      "\t\t\t\t\t<option value=\"03\">Mar.</option>\n",
      "\t\t\t\t\t<option value=\"04\">Apr.</option>\n",
      "\t\t\t\t\t<option value=\"05\">May</option>\n",
      "\t\t\t\t\t<option value=\"06\">Jun.</option>\n",
      "\t\t\t\t\t<option value=\"07\">Jul.</option>\n",
      "\t\t\t\t\t<option value=\"08\">Aug.</option>\n",
      "\t\t\t\t\t<option value=\"09\">Sep.</option>\n",
      "\t\t\t\t\t<option value=\"10\">Oct.</option>\n",
      "\t\t\t\t\t<option value=\"11\">Nov.</option>\n",
      "\t\t\t\t\t<option value=\"12\">Dec.</option>\n",
      "\t\t\t\t\t</select> / <select size=\"1\" name=\"asof_day\" style=\"font-size: 8pt\">\n",
      "\t\t\t\t\t<option selected value=\"\">Day</option>\n",
      "\t\t\t\t\t<option value=\"01\">1</option>\n",
      "\t\t\t\t\t<option value=\"02\">2</option>\n",
      "\t\t\t\t\t<option value=\"03\">3</option>\n",
      "\t\t\t\t\t<option value=\"04\">4</option>\n",
      "\t\t\t\t\t<option value=\"05\">5</option>\n",
      "\t\t\t\t\t<option value=\"06\">6</option>\n",
      "\t\t\t\t\t<option value=\"07\">7</option>\n",
      "\t\t\t\t\t<option value=\"08\">8</option>\n",
      "\t\t\t\t\t<option value=\"09\">9</option>\n",
      "\t\t\t\t\t<option value=\"10\">10</option>\n",
      "\t\t\t\t\t<option value=\"11\">11</option>\n",
      "\t\t\t\t\t<option value=\"12\">12</option>\n",
      "\t\t\t\t\t<option value=\"13\">13</option>\n",
      "\t\t\t\t\t<option value=\"14\">14</option>\n",
      "\t\t\t\t\t<option value=\"15\">15</option>\n",
      "\t\t\t\t\t<option value=\"16\">16</option>\n",
      "\t\t\t\t\t<option value=\"17\">17</option>\n",
      "\t\t\t\t\t<option value=\"18\">18</option>\n",
      "\t\t\t\t\t<option value=\"19\">19</option>\n",
      "\t\t\t\t\t<option value=\"20\">20</option>\n",
      "\t\t\t\t\t<option value=\"21\">21</option>\n",
      "\t\t\t\t\t<option value=\"22\">22</option>\n",
      "\t\t\t\t\t<option value=\"23\">23</option>\n",
      "\t\t\t\t\t<option value=\"24\">24</option>\n",
      "\t\t\t\t\t<option value=\"25\">25</option>\n",
      "\t\t\t\t\t<option value=\"26\">26</option>\n",
      "\t\t\t\t\t<option value=\"27\">27</option>\n",
      "\t\t\t\t\t<option value=\"28\">28</option>\n",
      "\t\t\t\t\t<option value=\"29\">29</option>\n",
      "\t\t\t\t\t<option value=\"30\">30</option>\n",
      "\t\t\t\t\t<option value=\"31\">31</option>\n",
      "\t\t\t\t\t</select> / <select size=\"1\" name=\"asof_yr\" style=\"font-size: 8pt\">\n",
      "\t\t\t\t\t\t<option selected>2017</option>\n",
      "\t\t\t\t\t\t<option>2018</option>\n",
      "\t\t\t\t\t\t</select>) <input type=\"submit\" value=\"Go\" name=\"go\" style=\"font-size: 8pt; height: 16\">\n",
      "\t\t\t\t\t</font></td></tr>\n",
      "\t\t\t\t\t<input type=\"hidden\" name=\"jumpstuff\" value=\"view=widedate&view2=domestic&yr=2017&sort=gross&order=DESC&p=.htm\">\n",
      "\t\t\t\t\t<input type=\"hidden\" name=\"curasof\" value=\"today\">\n",
      "\t\t\t\t\t<input type=\"hidden\" name=\"yr\" value=\"2017\">\n",
      "\t\t\t\t\t</form>\n",
      "\t\t\t\t\t</table>\n",
      "\t\t\t\t</font></td><td valign=\"bottom\" align=\"right\"><font face=\"Verdana\" size=\"1\"><b><a href=\"/yearly/chart/?yr=2018&view=widedate&view2=domestic&sort=gross&order=DESC&&p=.htm\">Next Year &gt;</a></b></font></td></tr><tr><td colspan=\"3\"><table border=\"0\" cellspacing=\"1\" cellpadding=\"5\" bgcolor=\"#ffffff\"><tr bgcolor=\"#dcdcdc\"><td align=\"center\"><font size=\"2\"><a href=\"/yearly/chart/?view=widedate&view2=domestic&yr=2017&sort=gross&order=ASC&p=.htm\"><b>Rank</b></a></font></td><td align=\"center\"><font size=\"2\"><a href=\"/yearly/chart/?view=widedate&view2=domestic&yr=2017&sort=title&order=ASC&p=.htm\">Movie Title (click to view)</a></font></td><td align=\"center\"><font size=\"2\"><a href=\"/yearly/chart/?view=widedate&view2=domestic&yr=2017&sort=studio&order=ASC&p=.htm\">Studio</a><br><script language=\"javascript\">\r\n",
      "function MojoDrop1() {\r\n",
      "var number = document.MojoDropDown1.mojolinks1.selectedIndex;location.href = document.MojoDropDown1.mojolinks1.options[number].value;}</script>\r\n",
      "<table border=\"0\" cellspacing=\"0\" cellpadding=\"0\">\r\n",
      "<form name=\"MojoDropDown1\"><tr><td>\r\n",
      "<select name=\"mojolinks1\" style=\"font-family: Verdana; font-size: 8pt\" onChange=\"MojoDrop1(this.form)\">\r\n",
      "<option selected>Filter</option><option value=\"/yearly/chart/?view=widedate&view2=domestic&yr=2017&sort=gross&order=DESC&studio=a24.htm\">A24</option>\r\n",
      "<option value=\"/yearly/chart/?view=widedate&view2=domestic&yr=2017&sort=gross&order=DESC&studio=atlas.htm\">ADC</option>\r\n",
      "<option value=\"/yearly/chart/?view=widedate&view2=domestic&yr=2017&sort=gross&order=DESC&studio=affirm.htm\">Affirm</option>\r\n",
      "<option value=\"/yearly/chart/?view=widedate&view2=domestic&yr=2017&sort=gross&order=DESC&studio=annapurna.htm\">Annapurna</option>\r\n",
      "<option value=\"/yearly/chart/?view=widedate&view2=domestic&yr=2017&sort=gross&order=DESC&studio=aviron.htm\">Aviron</option>\r\n",
      "<option value=\"/yearly/chart/?view=widedate&view2=domestic&yr=2017&sort=gross&order=DESC&studio=broadgreen.htm\">BG</option>\r\n",
      "<option value=\"/yearly/chart/?view=widedate&view2=domestic&yr=2017&sort=gross&order=DESC&studio=bhtilt.htm\">BH Tilt</option>\r\n",
      "<option value=\"/yearly/chart/?view=widedate&view2=domestic&yr=2017&sort=gross&order=DESC&studio=bleeckerstreet.htm\">BST</option>\r\n",
      "<option value=\"/yearly/chart/?view=widedate&view2=domestic&yr=2017&sort=gross&order=DESC&studio=buenavista.htm\">BV</option>\r\n",
      "<option value=\"/yearly/chart/?view=widedate&view2=domestic&yr=2017&sort=gross&order=DESC&studio=cinelou.htm\">CLF</option>\r\n",
      "<option value=\"/yearly/chart/?view=widedate&view2=domestic&yr=2017&sort=gross&order=DESC&studio=electric.htm\">Electric</option>\r\n",
      "<option value=\"/yearly/chart/?view=widedate&view2=domestic&yr=2017&sort=gross&order=DESC&studio=entertainmentstudios.htm\">ENTMP</option>\r\n",
      "<option value=\"/yearly/chart/?view=widedate&view2=domestic&yr=2017&sort=gross&order=DESC&studio=fathom.htm\">Fathom</option>\r\n",
      "<option value=\"/yearly/chart/?view=widedate&view2=domestic&yr=2017&sort=gross&order=DESC&studio=focus.htm\">Focus</option>\r\n",
      "<option value=\"/yearly/chart/?view=widedate&view2=domestic&yr=2017&sort=gross&order=DESC&studio=fox.htm\">Fox</option>\r\n",
      "<option value=\"/yearly/chart/?view=widedate&view2=domestic&yr=2017&sort=gross&order=DESC&studio=foxsearchlight.htm\">FoxS</option>\r\n",
      "<option value=\"/yearly/chart/?view=widedate&view2=domestic&yr=2017&sort=gross&order=DESC&studio=lionsgatesummit.htm\">LG/S</option>\r\n",
      "<option value=\"/yearly/chart/?view=widedate&view2=domestic&yr=2017&sort=gross&order=DESC&studio=lionsgate.htm\">LGF</option>\r\n",
      "<option value=\"/yearly/chart/?view=widedate&view2=domestic&yr=2017&sort=gross&order=DESC&studio=neon.htm\">Neon</option>\r\n",
      "<option value=\"/yearly/chart/?view=widedate&view2=domestic&yr=2017&sort=gross&order=DESC&studio=openroads.htm\">ORF</option>\r\n",
      "<option value=\"/yearly/chart/?view=widedate&view2=domestic&yr=2017&sort=gross&order=DESC&studio=paramount.htm\">Par.</option>\r\n",
      "<option value=\"/yearly/chart/?view=widedate&view2=domestic&yr=2017&sort=gross&order=DESC&studio=pureflix.htm\">PFR</option>\r\n",
      "<option value=\"/yearly/chart/?view=widedate&view2=domestic&yr=2017&sort=gross&order=DESC&studio=pantelion.htm\">PNT</option>\r\n",
      "<option value=\"/yearly/chart/?view=widedate&view2=domestic&yr=2017&sort=gross&order=DESC&studio=purdie.htm\">Purd.</option>\r\n",
      "<option value=\"/yearly/chart/?view=widedate&view2=domestic&yr=2017&sort=gross&order=DESC&studio=roadsideattractions.htm\">RAtt.</option>\r\n",
      "<option value=\"/yearly/chart/?view=widedate&view2=domestic&yr=2017&sort=gross&order=DESC&studio=screengems.htm\">SGem</option>\r\n",
      "<option value=\"/yearly/chart/?view=widedate&view2=domestic&yr=2017&sort=gross&order=DESC&studio=sony.htm\">Sony</option>\r\n",
      "<option value=\"/yearly/chart/?view=widedate&view2=domestic&yr=2017&sort=gross&order=DESC&studio=sonyclassics.htm\">SPC</option>\r\n",
      "<option value=\"/yearly/chart/?view=widedate&view2=domestic&yr=2017&sort=gross&order=DESC&studio=stx.htm\">STX</option>\r\n",
      "<option value=\"/yearly/chart/?view=widedate&view2=domestic&yr=2017&sort=gross&order=DESC&studio=tristar.htm\">TriS</option>\r\n",
      "<option value=\"/yearly/chart/?view=widedate&view2=domestic&yr=2017&sort=gross&order=DESC&studio=universal.htm\">Uni.</option>\r\n",
      "<option value=\"/yearly/chart/?view=widedate&view2=domestic&yr=2017&sort=gross&order=DESC&studio=warnerbros.htm\">WB</option>\r\n",
      "<option value=\"/yearly/chart/?view=widedate&view2=domestic&yr=2017&sort=gross&order=DESC&studio=wb-newline.htm\">WB (NL)</option>\r\n",
      "<option value=\"/yearly/chart/?view=widedate&view2=domestic&yr=2017&sort=gross&order=DESC&studio=weinsteincompany.htm\">Wein.</option>\r\n",
      "<option value=\"/yearly/chart/?view=widedate&view2=domestic&yr=2017&sort=gross&order=DESC&p=.htm\">ALL</option>\r\n",
      "</select></td></tr></form></table><a></a></font></td><td align=\"center\" colspan=\"2\"><font size=\"2\"><a href=\"/yearly/chart/?view=widedate&view2=domestic&yr=2017&sort=gross&order=ASC&p=.htm\"><b>Total Gross</b></a> / </font><font size=\"2\"><a href=\"/yearly/chart/?view=widedate&view2=domestic&yr=2017&sort=theaters&order=DESC&p=.htm\">Theaters</a></font></td><td align=\"center\" colspan=\"2\"><font size=\"2\"><a href=\"/yearly/chart/?view=widedate&view2=domestic&yr=2017&sort=opengross&order=DESC&p=.htm\">Opening</a> / </font><font size=\"2\"><a href=\"/yearly/chart/?view=widedate&view2=domestic&yr=2017&sort=opentheaters&order=DESC&p=.htm\">Theaters</a></font></td><td align=\"center\"><font size=\"2\"><a href=\"/yearly/chart/?view=widedate&view2=domestic&yr=2017&sort=open&order=DESC&p=.htm\">Wide</a></font></td><td align=\"center\"><font size=\"2\"><a href=\"/yearly/chart/?view=widedate&view2=domestic&yr=2017&sort=close&order=DESC&p=.htm\">Close</a></font></td></tr><tr bgcolor=\"#ffffff\"><td align=\"center\"><font size=\"2\">1</font></td><td><b><font size=\"2\"><a href=\"/movies/?id=starwars8.htm\">Star Wars: The Last Jedi</a></font></b></td><td><font size=\"2\"><a href=\"/studio/chart/?studio=buenavista.htm\">BV</a></font></td><td align=\"right\"><font size=\"2\"><b>$620,181,382</b></font></td><td align=\"right\"><font size=\"2\">4,232</font></td><td align=\"right\"><font size=\"2\">$220,009,584</font></td><td align=\"right\"><font size=\"2\">4,232</font></td><td align=\"right\"><font size=\"2\"><a href=\"/schedule/?view=bydate&release=theatrical&date=2017-12-15&p=.htm\">12/15</a></font></td><td align=\"right\"><font size=\"2\">4/19</font></td></tr><tr bgcolor=\"#f4f4ff\"><td align=\"center\"><font size=\"2\">2</font></td><td><b><font size=\"2\"><a href=\"/movies/?id=beautyandthebeast2017.htm\">Beauty and the Beast (2017)</a></font></b></td><td><font size=\"2\"><a href=\"/studio/chart/?studio=buenavista.htm\">BV</a></font></td><td align=\"right\"><font size=\"2\"><b>$504,014,165</b></font></td><td align=\"right\"><font size=\"2\">4,210</font></td><td align=\"right\"><font size=\"2\">$174,750,616</font></td><td align=\"right\"><font size=\"2\">4,210</font></td><td align=\"right\"><font size=\"2\"><a href=\"/schedule/?view=bydate&release=theatrical&date=2017-03-17&p=.htm\">3/17</a></font></td><td align=\"right\"><font size=\"2\">7/13</font></td></tr><tr bgcolor=\"#ffffff\"><td align=\"center\"><font size=\"2\">3</font></td><td><b><font size=\"2\"><a href=\"/movies/?id=wonderwoman.htm\">Wonder Woman</a></font></b></td><td><font size=\"2\"><a href=\"/studio/chart/?studio=warnerbros.htm\">WB</a></font></td><td align=\"right\"><font size=\"2\"><b>$412,563,408</b></font></td><td align=\"right\"><font size=\"2\">4,165</font></td><td align=\"right\"><font size=\"2\">$103,251,471</font></td><td align=\"right\"><font size=\"2\">4,165</font></td><td align=\"right\"><font size=\"2\"><a href=\"/schedule/?view=bydate&release=theatrical&date=2017-06-02&p=.htm\">6/2</a></font></td><td align=\"right\"><font size=\"2\">11/9</font></td></tr><tr bgcolor=\"#f4f4ff\"><td align=\"center\"><font size=\"2\">4</font></td><td><b><font size=\"2\"><a href=\"/movies/?id=jumanji2016.htm\">Jumanji: Welcome to the Jungle</a></font></b></td><td><font size=\"2\"><a href=\"/studio/chart/?studio=sony.htm\">Sony</a></font></td><td align=\"right\"><font size=\"2\"><b>$404,515,480</b></font></td><td align=\"right\"><font size=\"2\">3,849</font></td><td align=\"right\"><font size=\"2\">$36,169,328</font></td><td align=\"right\"><font size=\"2\">3,765</font></td><td align=\"right\"><font size=\"2\"><a href=\"/schedule/?view=bydate&release=theatrical&date=2017-12-20&p=.htm\">12/20</a></font></td><td align=\"right\"><font size=\"2\">5/31</font></td></tr><tr bgcolor=\"#ffffff\"><td align=\"center\"><font size=\"2\">5</font></td><td><b><font size=\"2\"><a href=\"/movies/?id=marvel17a.htm\">Guardians of the Galaxy Vol. 2</a></font></b></td><td><font size=\"2\"><a href=\"/studio/chart/?studio=buenavista.htm\">BV</a></font></td><td align=\"right\"><font size=\"2\"><b>$389,813,101</b></font></td><td align=\"right\"><font size=\"2\">4,347</font></td><td align=\"right\"><font size=\"2\">$146,510,104</font></td><td align=\"right\"><font size=\"2\">4,347</font></td><td align=\"right\"><font size=\"2\"><a href=\"/schedule/?view=bydate&release=theatrical&date=2017-05-05&p=.htm\">5/5</a></font></td><td align=\"right\"><font size=\"2\">9/21</font></td></tr><tr bgcolor=\"#f4f4ff\"><td align=\"center\"><font size=\"2\">6</font></td><td><b><font size=\"2\"><a href=\"/movies/?id=spiderman2017.htm\">Spider-Man: Homecoming</a></font></b></td><td><font size=\"2\"><a href=\"/studio/chart/?studio=sony.htm\">Sony</a></font></td><td align=\"right\"><font size=\"2\"><b>$334,201,140</b></font></td><td align=\"right\"><font size=\"2\">4,348</font></td><td align=\"right\"><font size=\"2\">$117,027,503</font></td><td align=\"right\"><font size=\"2\">4,348</font></td><td align=\"right\"><font size=\"2\"><a href=\"/schedule/?view=bydate&release=theatrical&date=2017-07-07&p=.htm\">7/7</a></font></td><td align=\"right\"><font size=\"2\">11/30</font></td></tr><tr bgcolor=\"#ffffff\"><td align=\"center\"><font size=\"2\">7</font></td><td><b><font size=\"2\"><a href=\"/movies/?id=it.htm\">It</a></font></b></td><td><font size=\"2\"><a href=\"/studio/chart/?studio=wb-newline.htm\">WB (NL)</a></font></td><td align=\"right\"><font size=\"2\"><b>$327,481,748</b></font></td><td align=\"right\"><font size=\"2\">4,148</font></td><td align=\"right\"><font size=\"2\">$123,403,419</font></td><td align=\"right\"><font size=\"2\">4,103</font></td><td align=\"right\"><font size=\"2\"><a href=\"/schedule/?view=bydate&release=theatrical&date=2017-09-08&p=.htm\">9/8</a></font></td><td align=\"right\"><font size=\"2\">12/14</font></td></tr><tr bgcolor=\"#f4f4ff\"><td align=\"center\"><font size=\"2\">8</font></td><td><b><font size=\"2\"><a href=\"/movies/?id=marvel2017.htm\">Thor: Ragnarok</a></font></b></td><td><font size=\"2\"><a href=\"/studio/chart/?studio=buenavista.htm\">BV</a></font></td><td align=\"right\"><font size=\"2\"><b>$315,058,289</b></font></td><td align=\"right\"><font size=\"2\">4,080</font></td><td align=\"right\"><font size=\"2\">$122,744,989</font></td><td align=\"right\"><font size=\"2\">4,080</font></td><td align=\"right\"><font size=\"2\"><a href=\"/schedule/?view=bydate&release=theatrical&date=2017-11-03&p=.htm\">11/3</a></font></td><td align=\"right\"><font size=\"2\">3/15</font></td></tr><tr bgcolor=\"#ffffff\"><td align=\"center\"><font size=\"2\">9</font></td><td><b><font size=\"2\"><a href=\"/movies/?id=despicableme3.htm\">Despicable Me 3</a></font></b></td><td><font size=\"2\"><a href=\"/studio/chart/?studio=universal.htm\">Uni.</a></font></td><td align=\"right\"><font size=\"2\"><b>$264,624,300</b></font></td><td align=\"right\"><font size=\"2\">4,535</font></td><td align=\"right\"><font size=\"2\">$72,434,025</font></td><td align=\"right\"><font size=\"2\">4,529</font></td><td align=\"right\"><font size=\"2\"><a href=\"/schedule/?view=bydate&release=theatrical&date=2017-06-30&p=.htm\">6/30</a></font></td><td align=\"right\"><font size=\"2\">12/21</font></td></tr><tr bgcolor=\"#f4f4ff\"><td align=\"center\"><font size=\"2\">10</font></td><td><b><font size=\"2\"><a href=\"/movies/?id=dcfilm1117.htm\">Justice League</a></font></b></td><td><font size=\"2\"><a href=\"/studio/chart/?studio=warnerbros.htm\">WB</a></font></td><td align=\"right\"><font size=\"2\"><b>$229,024,295</b></font></td><td align=\"right\"><font size=\"2\">4,051</font></td><td align=\"right\"><font size=\"2\">$93,842,239</font></td><td align=\"right\"><font size=\"2\">4,051</font></td><td align=\"right\"><font size=\"2\"><a href=\"/schedule/?view=bydate&release=theatrical&date=2017-11-17&p=.htm\">11/17</a></font></td><td align=\"right\"><font size=\"2\">3/15</font></td></tr><tr bgcolor=\"#ffffff\"><td align=\"center\"><font size=\"2\">11</font></td><td><b><font size=\"2\"><a href=\"/movies/?id=wolverine2017.htm\">Logan (2017)</a></font></b></td><td><font size=\"2\"><a href=\"/studio/chart/?studio=fox.htm\">Fox</a></font></td><td align=\"right\"><font size=\"2\"><b>$226,277,068</b></font></td><td align=\"right\"><font size=\"2\">4,071</font></td><td align=\"right\"><font size=\"2\">$88,411,916</font></td><td align=\"right\"><font size=\"2\">4,071</font></td><td align=\"right\"><font size=\"2\"><a href=\"/schedule/?view=bydate&release=theatrical&date=2017-03-03&p=.htm\">3/3</a></font></td><td align=\"right\"><font size=\"2\">7/13</font></td></tr><tr bgcolor=\"#f4f4ff\"><td align=\"center\"><font size=\"2\">12</font></td><td><b><font size=\"2\"><a href=\"/movies/?id=furious8.htm\">The Fate of the Furious</a></font></b></td><td><font size=\"2\"><a href=\"/studio/chart/?studio=universal.htm\">Uni.</a></font></td><td align=\"right\"><font size=\"2\"><b>$226,008,385</b></font></td><td align=\"right\"><font size=\"2\">4,329</font></td><td align=\"right\"><font size=\"2\">$98,786,705</font></td><td align=\"right\"><font size=\"2\">4,310</font></td><td align=\"right\"><font size=\"2\"><a href=\"/schedule/?view=bydate&release=theatrical&date=2017-04-14&p=.htm\">4/14</a></font></td><td align=\"right\"><font size=\"2\">8/10</font></td></tr><tr bgcolor=\"#ffffff\"><td align=\"center\"><font size=\"2\">13</font></td><td><b><font size=\"2\"><a href=\"/movies/?id=pixar1117.htm\">Coco</a></font></b></td><td><font size=\"2\"><a href=\"/studio/chart/?studio=buenavista.htm\">BV</a></font></td><td align=\"right\"><font size=\"2\"><b>$209,726,015</b></font></td><td align=\"right\"><font size=\"2\">3,987</font></td><td align=\"right\"><font size=\"2\">$50,802,605</font></td><td align=\"right\"><font size=\"2\">3,987</font></td><td align=\"right\"><font size=\"2\"><a href=\"/schedule/?view=bydate&release=theatrical&date=2017-11-22&p=.htm\">11/22</a></font></td><td align=\"right\"><font size=\"2\">4/26</font></td></tr><tr bgcolor=\"#f4f4ff\"><td align=\"center\"><font size=\"2\">14</font></td><td><b><font size=\"2\"><a href=\"/movies/?id=chrisnolan2017.htm\">Dunkirk</a></font></b></td><td><font size=\"2\"><a href=\"/studio/chart/?studio=warnerbros.htm\">WB</a></font></td><td align=\"right\"><font size=\"2\"><b>$188,045,546</b></font></td><td align=\"right\"><font size=\"2\">4,014</font></td><td align=\"right\"><font size=\"2\">$50,513,488</font></td><td align=\"right\"><font size=\"2\">3,720</font></td><td align=\"right\"><font size=\"2\"><a href=\"/schedule/?view=bydate&release=theatrical&date=2017-07-21&p=.htm\">7/21</a></font></td><td align=\"right\"><font size=\"2\">11/23</font></td></tr><tr bgcolor=\"#ffffff\"><td align=\"center\"><font size=\"2\">15</font></td><td><b><font size=\"2\"><a href=\"/movies/?id=blumhouse2.htm\">Get Out</a></font></b></td><td><font size=\"2\"><a href=\"/studio/chart/?studio=universal.htm\">Uni.</a></font></td><td align=\"right\"><font size=\"2\"><b>$176,040,665</b></font></td><td align=\"right\"><font size=\"2\">3,143</font></td><td align=\"right\"><font size=\"2\">$33,377,060</font></td><td align=\"right\"><font size=\"2\">2,781</font></td><td align=\"right\"><font size=\"2\"><a href=\"/schedule/?view=bydate&release=theatrical&date=2017-02-24&p=.htm\">2/24</a></font></td><td align=\"right\"><font size=\"2\">2/15</font></td></tr><tr bgcolor=\"#f4f4ff\"><td align=\"center\"><font size=\"2\">16</font></td><td><b><font size=\"2\"><a href=\"/movies/?id=lego2.htm\">The LEGO Batman Movie</a></font></b></td><td><font size=\"2\"><a href=\"/studio/chart/?studio=warnerbros.htm\">WB</a></font></td><td align=\"right\"><font size=\"2\"><b>$175,750,384</b></font></td><td align=\"right\"><font size=\"2\">4,088</font></td><td align=\"right\"><font size=\"2\">$53,003,468</font></td><td align=\"right\"><font size=\"2\">4,088</font></td><td align=\"right\"><font size=\"2\"><a href=\"/schedule/?view=bydate&release=theatrical&date=2017-02-10&p=.htm\">2/10</a></font></td><td align=\"right\"><font size=\"2\">6/8</font></td></tr><tr bgcolor=\"#ffffff\"><td align=\"center\"><font size=\"2\">17</font></td><td><b><font size=\"2\"><a href=\"/movies/?id=bossbaby.htm\">The Boss Baby</a></font></b></td><td><font size=\"2\"><a href=\"/studio/chart/?studio=fox.htm\">Fox</a></font></td><td align=\"right\"><font size=\"2\"><b>$175,003,033</b></font></td><td align=\"right\"><font size=\"2\">3,829</font></td><td align=\"right\"><font size=\"2\">$50,198,902</font></td><td align=\"right\"><font size=\"2\">3,773</font></td><td align=\"right\"><font size=\"2\"><a href=\"/schedule/?view=bydate&release=theatrical&date=2017-03-31&p=.htm\">3/31</a></font></td><td align=\"right\"><font size=\"2\">11/2</font></td></tr><tr bgcolor=\"#f4f4ff\"><td align=\"center\"><font size=\"2\">18</font></td><td><b><font size=\"2\"><a href=\"/movies/?id=greatestshowman.htm\">The Greatest Showman</a></font></b></td><td><font size=\"2\"><a href=\"/studio/chart/?studio=fox.htm\">Fox</a></font></td><td align=\"right\"><font size=\"2\"><b>$174,340,174</b></font></td><td align=\"right\"><font size=\"2\">3,342</font></td><td align=\"right\"><font size=\"2\">$8,805,843</font></td><td align=\"right\"><font size=\"2\">3,006</font></td><td align=\"right\"><font size=\"2\"><a href=\"/schedule/?view=bydate&release=theatrical&date=2017-12-20&p=.htm\">12/20</a></font></td><td align=\"right\"><font size=\"2\">7/26</font></td></tr><tr bgcolor=\"#ffffff\"><td align=\"center\"><font size=\"2\">19</font></td><td><b><font size=\"2\"><a href=\"/movies/?id=potc5.htm\">Pirates of the Caribbean: Dead Men Tell No Tales</a></font></b></td><td><font size=\"2\"><a href=\"/studio/chart/?studio=buenavista.htm\">BV</a></font></td><td align=\"right\"><font size=\"2\"><b>$172,558,876</b></font></td><td align=\"right\"><font size=\"2\">4,276</font></td><td align=\"right\"><font size=\"2\">$62,983,253</font></td><td align=\"right\"><font size=\"2\">4,276</font></td><td align=\"right\"><font size=\"2\"><a href=\"/schedule/?view=bydate&release=theatrical&date=2017-05-26&p=.htm\">5/26</a></font></td><td align=\"right\"><font size=\"2\">9/21</font></td></tr><tr bgcolor=\"#f4f4ff\"><td align=\"center\"><font size=\"2\">20</font></td><td><b><font size=\"2\"><a href=\"/movies/?id=hiddenfigures.htm\">Hidden Figures</a></font></b></td><td><font size=\"2\"><a href=\"/studio/chart/?studio=fox.htm\">Fox</a></font></td><td align=\"right\"><font size=\"2\"><b>$169,607,287</b></font></td><td align=\"right\"><font size=\"2\">3,416</font></td><td align=\"right\"><font size=\"2\">$515,499</font></td><td align=\"right\"><font size=\"2\">25</font></td><td align=\"right\"><font size=\"2\"><a href=\"/schedule/?view=bydate&release=theatrical&date=2017-01-06&p=.htm\">1/6</a></font></td><td align=\"right\"><font size=\"2\">11/9</font></td></tr><tr bgcolor=\"#ffffff\"><td align=\"center\"><font size=\"2\">21</font></td><td><b><font size=\"2\"><a href=\"/movies/?id=legendary2016.htm\">Kong: Skull Island</a></font></b></td><td><font size=\"2\"><a href=\"/studio/chart/?studio=warnerbros.htm\">WB</a></font></td><td align=\"right\"><font size=\"2\"><b>$168,052,812</b></font></td><td align=\"right\"><font size=\"2\">3,846</font></td><td align=\"right\"><font size=\"2\">$61,025,472</font></td><td align=\"right\"><font size=\"2\">3,846</font></td><td align=\"right\"><font size=\"2\"><a href=\"/schedule/?view=bydate&release=theatrical&date=2017-03-10&p=.htm\">3/10</a></font></td><td align=\"right\"><font size=\"2\">6/15</font></td></tr><tr bgcolor=\"#f4f4ff\"><td align=\"center\"><font size=\"2\">22</font></td><td><b><font size=\"2\"><a href=\"/movies/?id=cars3.htm\">Cars 3</a></font></b></td><td><font size=\"2\"><a href=\"/studio/chart/?studio=buenavista.htm\">BV</a></font></td><td align=\"right\"><font size=\"2\"><b>$152,901,115</b></font></td><td align=\"right\"><font size=\"2\">4,256</font></td><td align=\"right\"><font size=\"2\">$53,688,680</font></td><td align=\"right\"><font size=\"2\">4,256</font></td><td align=\"right\"><font size=\"2\"><a href=\"/schedule/?view=bydate&release=theatrical&date=2017-06-16&p=.htm\">6/16</a></font></td><td align=\"right\"><font size=\"2\">11/2</font></td></tr><tr bgcolor=\"#ffffff\"><td align=\"center\"><font size=\"2\">23</font></td><td><b><font size=\"2\"><a href=\"/movies/?id=planetoftheapes16.htm\">War for the Planet of the Apes</a></font></b></td><td><font size=\"2\"><a href=\"/studio/chart/?studio=fox.htm\">Fox</a></font></td><td align=\"right\"><font size=\"2\"><b>$146,880,162</b></font></td><td align=\"right\"><font size=\"2\">4,100</font></td><td align=\"right\"><font size=\"2\">$56,262,929</font></td><td align=\"right\"><font size=\"2\">4,022</font></td><td align=\"right\"><font size=\"2\"><a href=\"/schedule/?view=bydate&release=theatrical&date=2017-07-14&p=.htm\">7/14</a></font></td><td align=\"right\"><font size=\"2\">11/30</font></td></tr><tr bgcolor=\"#f4f4ff\"><td align=\"center\"><font size=\"2\">24</font></td><td><b><font size=\"2\"><a href=\"/movies/?id=split2017.htm\">Split</a></font></b></td><td><font size=\"2\"><a href=\"/studio/chart/?studio=universal.htm\">Uni.</a></font></td><td align=\"right\"><font size=\"2\"><b>$138,291,365</b></font></td><td align=\"right\"><font size=\"2\">3,373</font></td><td align=\"right\"><font size=\"2\">$40,010,975</font></td><td align=\"right\"><font size=\"2\">3,038</font></td><td align=\"right\"><font size=\"2\"><a href=\"/schedule/?view=bydate&release=theatrical&date=2017-01-20&p=.htm\">1/20</a></font></td><td align=\"right\"><font size=\"2\">5/11</font></td></tr><tr bgcolor=\"#ffffff\"><td align=\"center\"><font size=\"2\">25</font></td><td><b><font size=\"2\"><a href=\"/movies/?id=wonder.htm\">Wonder</a></font></b></td><td><font size=\"2\"><a href=\"/studio/chart/?studio=lionsgate.htm\">LGF</a></font></td><td align=\"right\"><font size=\"2\"><b>$132,422,809</b></font></td><td align=\"right\"><font size=\"2\">3,519</font></td><td align=\"right\"><font size=\"2\">$27,547,866</font></td><td align=\"right\"><font size=\"2\">3,096</font></td><td align=\"right\"><font size=\"2\"><a href=\"/schedule/?view=bydate&release=theatrical&date=2017-11-17&p=.htm\">11/17</a></font></td><td align=\"right\"><font size=\"2\">3/22</font></td></tr><tr bgcolor=\"#f4f4ff\"><td align=\"center\"><font size=\"2\">26</font></td><td><b><font size=\"2\"><a href=\"/movies/?id=transformers5.htm\">Transformers: The Last Knight</a></font></b></td><td><font size=\"2\"><a href=\"/studio/chart/?studio=paramount.htm\">Par.</a></font></td><td align=\"right\"><font size=\"2\"><b>$130,168,683</b></font></td><td align=\"right\"><font size=\"2\">4,132</font></td><td align=\"right\"><font size=\"2\">$44,680,073</font></td><td align=\"right\"><font size=\"2\">4,069</font></td><td align=\"right\"><font size=\"2\"><a href=\"/schedule/?view=bydate&release=theatrical&date=2017-06-21&p=.htm\">6/21</a></font></td><td align=\"right\"><font size=\"2\">8/24</font></td></tr><tr bgcolor=\"#ffffff\"><td align=\"center\"><font size=\"2\">27</font></td><td><b><font size=\"2\"><a href=\"/movies/?id=girltrip.htm\">Girls Trip</a></font></b></td><td><font size=\"2\"><a href=\"/studio/chart/?studio=universal.htm\">Uni.</a></font></td><td align=\"right\"><font size=\"2\"><b>$115,171,585</b></font></td><td align=\"right\"><font size=\"2\">2,648</font></td><td align=\"right\"><font size=\"2\">$31,201,920</font></td><td align=\"right\"><font size=\"2\">2,591</font></td><td align=\"right\"><font size=\"2\"><a href=\"/schedule/?view=bydate&release=theatrical&date=2017-07-21&p=.htm\">7/21</a></font></td><td align=\"right\"><font size=\"2\">10/19</font></td></tr><tr bgcolor=\"#f4f4ff\"><td align=\"center\"><font size=\"2\">28</font></td><td><b><font size=\"2\"><a href=\"/movies/?id=fiftyshadesdarker.htm\">Fifty Shades Darker</a></font></b></td><td><font size=\"2\"><a href=\"/studio/chart/?studio=universal.htm\">Uni.</a></font></td><td align=\"right\"><font size=\"2\"><b>$114,581,250</b></font></td><td align=\"right\"><font size=\"2\">3,714</font></td><td align=\"right\"><font size=\"2\">$46,607,250</font></td><td align=\"right\"><font size=\"2\">3,710</font></td><td align=\"right\"><font size=\"2\"><a href=\"/schedule/?view=bydate&release=theatrical&date=2017-02-10&p=.htm\">2/10</a></font></td><td align=\"right\"><font size=\"2\">4/6</font></td></tr><tr bgcolor=\"#ffffff\"><td align=\"center\"><font size=\"2\">29</font></td><td><b><font size=\"2\"><a href=\"/movies/?id=babydriver.htm\">Baby Driver</a></font></b></td><td><font size=\"2\"><a href=\"/studio/chart/?studio=tristar.htm\">TriS</a></font></td><td align=\"right\"><font size=\"2\"><b>$107,825,862</b></font></td><td align=\"right\"><font size=\"2\">3,226</font></td><td align=\"right\"><font size=\"2\">$20,553,320</font></td><td align=\"right\"><font size=\"2\">3,226</font></td><td align=\"right\"><font size=\"2\"><a href=\"/schedule/?view=bydate&release=theatrical&date=2017-06-28&p=.htm\">6/28</a></font></td><td align=\"right\"><font size=\"2\">10/19</font></td></tr><tr bgcolor=\"#f4f4ff\"><td align=\"center\"><font size=\"2\">30</font></td><td><b><font size=\"2\"><a href=\"/movies/?id=pitchperfect3.htm\">Pitch Perfect 3</a></font></b></td><td><font size=\"2\"><a href=\"/studio/chart/?studio=universal.htm\">Uni.</a></font></td><td align=\"right\"><font size=\"2\"><b>$104,897,530</b></font></td><td align=\"right\"><font size=\"2\">3,468</font></td><td align=\"right\"><font size=\"2\">$19,928,525</font></td><td align=\"right\"><font size=\"2\">3,447</font></td><td align=\"right\"><font size=\"2\"><a href=\"/schedule/?view=bydate&release=theatrical&date=2017-12-22&p=.htm\">12/22</a></font></td><td align=\"right\"><font size=\"2\">3/8</font></td></tr><tr bgcolor=\"#ffffff\"><td align=\"center\"><font size=\"2\">31</font></td><td><b><font size=\"2\"><a href=\"/movies/?id=daddyshome2.htm\">Daddy's Home 2</a></font></b></td><td><font size=\"2\"><a href=\"/studio/chart/?studio=paramount.htm\">Par.</a></font></td><td align=\"right\"><font size=\"2\"><b>$104,029,443</b></font></td><td align=\"right\"><font size=\"2\">3,575</font></td><td align=\"right\"><font size=\"2\">$29,651,193</font></td><td align=\"right\"><font size=\"2\">3,575</font></td><td align=\"right\"><font size=\"2\"><a href=\"/schedule/?view=bydate&release=theatrical&date=2017-11-10&p=.htm\">11/10</a></font></td><td align=\"right\"><font size=\"2\">2/15</font></td></tr><tr bgcolor=\"#f4f4ff\"><td align=\"center\"><font size=\"2\">32</font></td><td><b><font size=\"2\"><a href=\"/movies/?id=murderorientexpress17.htm\">Murder on the Orient Express (2017)</a></font></b></td><td><font size=\"2\"><a href=\"/studio/chart/?studio=fox.htm\">Fox</a></font></td><td align=\"right\"><font size=\"2\"><b>$102,826,543</b></font></td><td align=\"right\"><font size=\"2\">3,354</font></td><td align=\"right\"><font size=\"2\">$28,681,472</font></td><td align=\"right\"><font size=\"2\">3,341</font></td><td align=\"right\"><font size=\"2\"><a href=\"/schedule/?view=bydate&release=theatrical&date=2017-11-10&p=.htm\">11/10</a></font></td><td align=\"right\"><font size=\"2\">-</font></td></tr><tr bgcolor=\"#ffffff\"><td align=\"center\"><font size=\"2\">33</font></td><td><b><font size=\"2\"><a href=\"/movies/?id=annabelle2.htm\">Annabelle: Creation</a></font></b></td><td><font size=\"2\"><a href=\"/studio/chart/?studio=wb-newline.htm\">WB (NL)</a></font></td><td align=\"right\"><font size=\"2\"><b>$102,092,201</b></font></td><td align=\"right\"><font size=\"2\">3,565</font></td><td align=\"right\"><font size=\"2\">$35,006,404</font></td><td align=\"right\"><font size=\"2\">3,502</font></td><td align=\"right\"><font size=\"2\"><a href=\"/schedule/?view=bydate&release=theatrical&date=2017-08-11&p=.htm\">8/11</a></font></td><td align=\"right\"><font size=\"2\">11/2</font></td></tr><tr bgcolor=\"#f4f4ff\"><td align=\"center\"><font size=\"2\">34</font></td><td><b><font size=\"2\"><a href=\"/movies/?id=kingsman2.htm\">Kingsman: The Golden Circle</a></font></b></td><td><font size=\"2\"><a href=\"/studio/chart/?studio=fox.htm\">Fox</a></font></td><td align=\"right\"><font size=\"2\"><b>$100,234,838</b></font></td><td align=\"right\"><font size=\"2\">4,038</font></td><td align=\"right\"><font size=\"2\">$39,023,010</font></td><td align=\"right\"><font size=\"2\">4,003</font></td><td align=\"right\"><font size=\"2\"><a href=\"/schedule/?view=bydate&release=theatrical&date=2017-09-22&p=.htm\">9/22</a></font></td><td align=\"right\"><font size=\"2\">1/4</font></td></tr><tr bgcolor=\"#ffffff\"><td align=\"center\"><font size=\"2\">35</font></td><td><b><font size=\"2\"><a href=\"/movies/?id=bladerunnersequel.htm\">Blade Runner 2049</a></font></b></td><td><font size=\"2\"><a href=\"/studio/chart/?studio=warnerbros.htm\">WB</a></font></td><td align=\"right\"><font size=\"2\"><b>$92,054,159</b></font></td><td align=\"right\"><font size=\"2\">4,058</font></td><td align=\"right\"><font size=\"2\">$32,753,122</font></td><td align=\"right\"><font size=\"2\">4,058</font></td><td align=\"right\"><font size=\"2\"><a href=\"/schedule/?view=bydate&release=theatrical&date=2017-10-06&p=.htm\">10/6</a></font></td><td align=\"right\"><font size=\"2\">2/1</font></td></tr><tr bgcolor=\"#f4f4ff\"><td align=\"center\"><font size=\"2\">36</font></td><td><b><font size=\"2\"><a href=\"/movies/?id=johnwick2.htm\">John Wick: Chapter Two</a></font></b></td><td><font size=\"2\"><a href=\"/studio/chart/?studio=lionsgatesummit.htm\">LG/S</a></font></td><td align=\"right\"><font size=\"2\"><b>$92,029,184</b></font></td><td align=\"right\"><font size=\"2\">3,113</font></td><td align=\"right\"><font size=\"2\">$30,436,123</font></td><td align=\"right\"><font size=\"2\">3,113</font></td><td align=\"right\"><font size=\"2\"><a href=\"/schedule/?view=bydate&release=theatrical&date=2017-02-10&p=.htm\">2/10</a></font></td><td align=\"right\"><font size=\"2\">4/27</font></td></tr><tr bgcolor=\"#ffffff\"><td align=\"center\"><font size=\"2\">37</font></td><td><b><font size=\"2\"><a href=\"/movies/?id=theemojimovie.htm\">The Emoji Movie</a></font></b></td><td><font size=\"2\"><a href=\"/studio/chart/?studio=sony.htm\">Sony</a></font></td><td align=\"right\"><font size=\"2\"><b>$86,089,513</b></font></td><td align=\"right\"><font size=\"2\">4,075</font></td><td align=\"right\"><font size=\"2\">$24,531,923</font></td><td align=\"right\"><font size=\"2\">4,075</font></td><td align=\"right\"><font size=\"2\"><a href=\"/schedule/?view=bydate&release=theatrical&date=2017-07-28&p=.htm\">7/28</a></font></td><td align=\"right\"><font size=\"2\">11/30</font></td></tr><tr bgcolor=\"#f4f4ff\"><td align=\"center\"><font size=\"2\">38</font></td><td><b><font size=\"2\"><a href=\"/movies/?id=powerrangers16.htm\">Power Rangers (2017)</a></font></b></td><td><font size=\"2\"><a href=\"/studio/chart/?studio=lionsgate.htm\">LGF</a></font></td><td align=\"right\"><font size=\"2\"><b>$85,364,450</b></font></td><td align=\"right\"><font size=\"2\">3,693</font></td><td align=\"right\"><font size=\"2\">$40,300,288</font></td><td align=\"right\"><font size=\"2\">3,693</font></td><td align=\"right\"><font size=\"2\"><a href=\"/schedule/?view=bydate&release=theatrical&date=2017-03-24&p=.htm\">3/24</a></font></td><td align=\"right\"><font size=\"2\">6/1</font></td></tr><tr bgcolor=\"#ffffff\"><td align=\"center\"><font size=\"2\">39</font></td><td><b><font size=\"2\"><a href=\"/movies/?id=ferdinand.htm\">Ferdinand</a></font></b></td><td><font size=\"2\"><a href=\"/studio/chart/?studio=fox.htm\">Fox</a></font></td><td align=\"right\"><font size=\"2\"><b>$84,410,380</b></font></td><td align=\"right\"><font size=\"2\">3,630</font></td><td align=\"right\"><font size=\"2\">$13,401,586</font></td><td align=\"right\"><font size=\"2\">3,621</font></td><td align=\"right\"><font size=\"2\"><a href=\"/schedule/?view=bydate&release=theatrical&date=2017-12-15&p=.htm\">12/15</a></font></td><td align=\"right\"><font size=\"2\">5/31</font></td></tr><tr bgcolor=\"#f4f4ff\"><td align=\"center\"><font size=\"2\">40</font></td><td><b><font size=\"2\"><a href=\"/movies/?id=mummy2016.htm\">The Mummy (2017)</a></font></b></td><td><font size=\"2\"><a href=\"/studio/chart/?studio=universal.htm\">Uni.</a></font></td><td align=\"right\"><font size=\"2\"><b>$80,227,895</b></font></td><td align=\"right\"><font size=\"2\">4,035</font></td><td align=\"right\"><font size=\"2\">$31,688,375</font></td><td align=\"right\"><font size=\"2\">4,035</font></td><td align=\"right\"><font size=\"2\"><a href=\"/schedule/?view=bydate&release=theatrical&date=2017-06-09&p=.htm\">6/9</a></font></td><td align=\"right\"><font size=\"2\">8/24</font></td></tr><tr bgcolor=\"#ffffff\"><td align=\"center\"><font size=\"2\">41</font></td><td><b><font size=\"2\"><a href=\"/movies/?id=hitmansbodyguard.htm\">The Hitman's Bodyguard</a></font></b></td><td><font size=\"2\"><a href=\"/studio/chart/?studio=lionsgatesummit.htm\">LG/S</a></font></td><td align=\"right\"><font size=\"2\"><b>$75,468,583</b></font></td><td align=\"right\"><font size=\"2\">3,377</font></td><td align=\"right\"><font size=\"2\">$21,384,504</font></td><td align=\"right\"><font size=\"2\">3,377</font></td><td align=\"right\"><font size=\"2\"><a href=\"/schedule/?view=bydate&release=theatrical&date=2017-08-18&p=.htm\">8/18</a></font></td><td align=\"right\"><font size=\"2\">11/2</font></td></tr><tr bgcolor=\"#f4f4ff\"><td align=\"center\"><font size=\"2\">42</font></td><td><b><font size=\"2\"><a href=\"/movies/?id=alienparadiselost.htm\">Alien: Covenant</a></font></b></td><td><font size=\"2\"><a href=\"/studio/chart/?studio=fox.htm\">Fox</a></font></td><td align=\"right\"><font size=\"2\"><b>$74,262,031</b></font></td><td align=\"right\"><font size=\"2\">3,772</font></td><td align=\"right\"><font size=\"2\">$36,160,621</font></td><td align=\"right\"><font size=\"2\">3,761</font></td><td align=\"right\"><font size=\"2\"><a href=\"/schedule/?view=bydate&release=theatrical&date=2017-05-19&p=.htm\">5/19</a></font></td><td align=\"right\"><font size=\"2\">8/31</font></td></tr><tr bgcolor=\"#ffffff\"><td align=\"center\"><font size=\"2\">43</font></td><td><b><font size=\"2\"><a href=\"/movies/?id=captainunderpants.htm\">Captain Underpants: The First Epic Movie</a></font></b></td><td><font size=\"2\"><a href=\"/studio/chart/?studio=fox.htm\">Fox</a></font></td><td align=\"right\"><font size=\"2\"><b>$73,921,000</b></font></td><td align=\"right\"><font size=\"2\">3,529</font></td><td align=\"right\"><font size=\"2\">$23,851,539</font></td><td align=\"right\"><font size=\"2\">3,434</font></td><td align=\"right\"><font size=\"2\"><a href=\"/schedule/?view=bydate&release=theatrical&date=2017-06-02&p=.htm\">6/2</a></font></td><td align=\"right\"><font size=\"2\">11/2</font></td></tr><tr bgcolor=\"#f4f4ff\"><td align=\"center\"><font size=\"2\">44</font></td><td><b><font size=\"2\"><a href=\"/movies/?id=badmomschristmas.htm\">A Bad Moms Christmas</a></font></b></td><td><font size=\"2\"><a href=\"/studio/chart/?studio=stx.htm\">STX</a></font></td><td align=\"right\"><font size=\"2\"><b>$72,110,659</b></font></td><td align=\"right\"><font size=\"2\">3,615</font></td><td align=\"right\"><font size=\"2\">$16,759,161</font></td><td align=\"right\"><font size=\"2\">3,615</font></td><td align=\"right\"><font size=\"2\"><a href=\"/schedule/?view=bydate&release=theatrical&date=2017-11-01&p=.htm\">11/1</a></font></td><td align=\"right\"><font size=\"2\">1/11</font></td></tr><tr bgcolor=\"#ffffff\"><td align=\"center\"><font size=\"2\">45</font></td><td><b><font size=\"2\"><a href=\"/movies/?id=adogspurpose.htm\">A Dog's Purpose</a></font></b></td><td><font size=\"2\"><a href=\"/studio/chart/?studio=universal.htm\">Uni.</a></font></td><td align=\"right\"><font size=\"2\"><b>$64,508,620</b></font></td><td align=\"right\"><font size=\"2\">3,178</font></td><td align=\"right\"><font size=\"2\">$18,222,810</font></td><td align=\"right\"><font size=\"2\">3,059</font></td><td align=\"right\"><font size=\"2\"><a href=\"/schedule/?view=bydate&release=theatrical&date=2017-01-27&p=.htm\">1/27</a></font></td><td align=\"right\"><font size=\"2\">5/18</font></td></tr><tr bgcolor=\"#f4f4ff\"><td align=\"center\"><font size=\"2\">46</font></td><td><b><font size=\"2\"><a href=\"/movies/?id=theshapeofwater.htm\">The Shape of Water</a></font></b></td><td><font size=\"2\"><a href=\"/studio/chart/?studio=foxsearchlight.htm\">FoxS</a></font></td><td align=\"right\"><font size=\"2\"><b>$63,859,435</b></font></td><td align=\"right\"><font size=\"2\">2,341</font></td><td align=\"right\"><font size=\"2\">$166,564</font></td><td align=\"right\"><font size=\"2\">2</font></td><td align=\"right\"><font size=\"2\"><a href=\"/schedule/?view=bydate&release=theatrical&date=2017-12-22&p=.htm\">12/22</a></font></td><td align=\"right\"><font size=\"2\">5/3</font></td></tr><tr bgcolor=\"#ffffff\"><td align=\"center\"><font size=\"2\">47</font></td><td><b><font size=\"2\"><a href=\"/movies/?id=ninjago.htm\">The LEGO Ninjago Movie</a></font></b></td><td><font size=\"2\"><a href=\"/studio/chart/?studio=warnerbros.htm\">WB</a></font></td><td align=\"right\"><font size=\"2\"><b>$59,281,555</b></font></td><td align=\"right\"><font size=\"2\">4,047</font></td><td align=\"right\"><font size=\"2\">$20,433,071</font></td><td align=\"right\"><font size=\"2\">4,047</font></td><td align=\"right\"><font size=\"2\"><a href=\"/schedule/?view=bydate&release=theatrical&date=2017-09-22&p=.htm\">9/22</a></font></td><td align=\"right\"><font size=\"2\">11/30</font></td></tr><tr bgcolor=\"#f4f4ff\"><td align=\"center\"><font size=\"2\">48</font></td><td><b><font size=\"2\"><a href=\"/movies/?id=baywatch.htm\">Baywatch</a></font></b></td><td><font size=\"2\"><a href=\"/studio/chart/?studio=paramount.htm\">Par.</a></font></td><td align=\"right\"><font size=\"2\"><b>$58,060,186</b></font></td><td align=\"right\"><font size=\"2\">3,647</font></td><td align=\"right\"><font size=\"2\">$18,503,871</font></td><td align=\"right\"><font size=\"2\">3,647</font></td><td align=\"right\"><font size=\"2\"><a href=\"/schedule/?view=bydate&release=theatrical&date=2017-05-25&p=.htm\">5/25</a></font></td><td align=\"right\"><font size=\"2\">7/27</font></td></tr><tr bgcolor=\"#ffffff\"><td align=\"center\"><font size=\"2\">49</font></td><td><b><font size=\"2\"><a href=\"/movies/?id=theshack.htm\">The Shack</a></font></b></td><td><font size=\"2\"><a href=\"/studio/chart/?studio=lionsgatesummit.htm\">LG/S</a></font></td><td align=\"right\"><font size=\"2\"><b>$57,386,418</b></font></td><td align=\"right\"><font size=\"2\">2,888</font></td><td align=\"right\"><font size=\"2\">$16,172,119</font></td><td align=\"right\"><font size=\"2\">2,888</font></td><td align=\"right\"><font size=\"2\"><a href=\"/schedule/?view=bydate&release=theatrical&date=2017-03-03&p=.htm\">3/3</a></font></td><td align=\"right\"><font size=\"2\">5/18</font></td></tr><tr bgcolor=\"#f4f4ff\"><td align=\"center\"><font size=\"2\">50</font></td><td><b><font size=\"2\"><a href=\"/movies/?id=darkesthour2017.htm\">Darkest Hour</a></font></b></td><td><font size=\"2\"><a href=\"/studio/chart/?studio=focus.htm\">Focus</a></font></td><td align=\"right\"><font size=\"2\"><b>$56,468,410</b></font></td><td align=\"right\"><font size=\"2\">1,733</font></td><td align=\"right\"><font size=\"2\">$175,006</font></td><td align=\"right\"><font size=\"2\">4</font></td><td align=\"right\"><font size=\"2\"><a href=\"/schedule/?view=bydate&release=theatrical&date=2017-12-22&p=.htm\">12/22</a></font></td><td align=\"right\"><font size=\"2\">4/12</font></td></tr><tr bgcolor=\"#ffffff\"><td align=\"center\"><font size=\"2\">51</font></td><td><b><font size=\"2\"><a href=\"/movies/?id=blumhousehorror2018.htm\">Happy Death Day</a></font></b></td><td><font size=\"2\"><a href=\"/studio/chart/?studio=universal.htm\">Uni.</a></font></td><td align=\"right\"><font size=\"2\"><b>$55,683,845</b></font></td><td align=\"right\"><font size=\"2\">3,535</font></td><td align=\"right\"><font size=\"2\">$26,039,025</font></td><td align=\"right\"><font size=\"2\">3,149</font></td><td align=\"right\"><font size=\"2\"><a href=\"/schedule/?view=bydate&release=theatrical&date=2017-10-13&p=.htm\">10/13</a></font></td><td align=\"right\"><font size=\"2\">12/14</font></td></tr><tr bgcolor=\"#f4f4ff\"><td align=\"center\"><font size=\"2\">52</font></td><td><b><font size=\"2\"><a href=\"/movies/?id=threebillboards.htm\">Three Billboards Outside Ebbing, Missouri</a></font></b></td><td><font size=\"2\"><a href=\"/studio/chart/?studio=foxsearchlight.htm\">FoxS</a></font></td><td align=\"right\"><font size=\"2\"><b>$54,513,740</b></font></td><td align=\"right\"><font size=\"2\">1,726</font></td><td align=\"right\"><font size=\"2\">$322,168</font></td><td align=\"right\"><font size=\"2\">4</font></td><td align=\"right\"><font size=\"2\"><a href=\"/schedule/?view=bydate&release=theatrical&date=2017-12-01&p=.htm\">12/1</a></font></td><td align=\"right\"><font size=\"2\">5/3</font></td></tr><tr bgcolor=\"#ffffff\"><td align=\"center\"><font size=\"2\">53</font></td><td><b><font size=\"2\"><a href=\"/movies/?id=lion.htm\">Lion</a></font></b></td><td><font size=\"2\"><a href=\"/studio/chart/?studio=weinsteincompany.htm\">Wein.</a></font></td><td align=\"right\"><font size=\"2\"><b>$51,738,905</b></font></td><td align=\"right\"><font size=\"2\">1,802</font></td><td align=\"right\"><font size=\"2\">$123,360</font></td><td align=\"right\"><font size=\"2\">4</font></td><td align=\"right\"><font size=\"2\"><a href=\"/schedule/?view=bydate&release=theatrical&date=2017-01-06&p=.htm\">1/6</a></font></td><td align=\"right\"><font size=\"2\">5/11</font></td></tr><tr bgcolor=\"#f4f4ff\"><td align=\"center\"><font size=\"2\">54</font></td><td><b><font size=\"2\"><a href=\"/movies/?id=thecoldestcity.htm\">Atomic Blonde</a></font></b></td><td><font size=\"2\"><a href=\"/studio/chart/?studio=focus.htm\">Focus</a></font></td><td align=\"right\"><font size=\"2\"><b>$51,687,870</b></font></td><td align=\"right\"><font size=\"2\">3,326</font></td><td align=\"right\"><font size=\"2\">$18,286,420</font></td><td align=\"right\"><font size=\"2\">3,304</font></td><td align=\"right\"><font size=\"2\"><a href=\"/schedule/?view=bydate&release=theatrical&date=2017-07-28&p=.htm\">7/28</a></font></td><td align=\"right\"><font size=\"2\">10/5</font></td></tr><tr bgcolor=\"#ffffff\"><td align=\"center\"><font size=\"2\">55</font></td><td><b><font size=\"2\"><a href=\"/movies/?id=mena.htm\">American Made</a></font></b></td><td><font size=\"2\"><a href=\"/studio/chart/?studio=universal.htm\">Uni.</a></font></td><td align=\"right\"><font size=\"2\"><b>$51,342,000</b></font></td><td align=\"right\"><font size=\"2\">3,098</font></td><td align=\"right\"><font size=\"2\">$16,776,390</font></td><td align=\"right\"><font size=\"2\">3,024</font></td><td align=\"right\"><font size=\"2\"><a href=\"/schedule/?view=bydate&release=theatrical&date=2017-09-29&p=.htm\">9/29</a></font></td><td align=\"right\"><font size=\"2\">12/14</font></td></tr><tr bgcolor=\"#f4f4ff\"><td align=\"center\"><font size=\"2\">56</font></td><td><b><font size=\"2\"><a href=\"/movies/?id=darktower.htm\">The Dark Tower</a></font></b></td><td><font size=\"2\"><a href=\"/studio/chart/?studio=sony.htm\">Sony</a></font></td><td align=\"right\"><font size=\"2\"><b>$50,701,325</b></font></td><td align=\"right\"><font size=\"2\">3,451</font></td><td align=\"right\"><font size=\"2\">$19,153,698</font></td><td align=\"right\"><font size=\"2\">3,451</font></td><td align=\"right\"><font size=\"2\"><a href=\"/schedule/?view=bydate&release=theatrical&date=2017-08-04&p=.htm\">8/4</a></font></td><td align=\"right\"><font size=\"2\">10/19</font></td></tr><tr bgcolor=\"#ffffff\"><td align=\"center\"><font size=\"2\">57</font></td><td><b><font size=\"2\"><a href=\"/movies/?id=ladybird.htm\">Lady Bird</a></font></b></td><td><font size=\"2\"><a href=\"/studio/chart/?studio=a24.htm\">A24</a></font></td><td align=\"right\"><font size=\"2\"><b>$48,958,273</b></font></td><td align=\"right\"><font size=\"2\">1,557</font></td><td align=\"right\"><font size=\"2\">$364,437</font></td><td align=\"right\"><font size=\"2\">4</font></td><td align=\"right\"><font size=\"2\"><a href=\"/schedule/?view=bydate&release=theatrical&date=2017-11-24&p=.htm\">11/24</a></font></td><td align=\"right\"><font size=\"2\">4/5</font></td></tr><tr bgcolor=\"#f4f4ff\"><td align=\"center\"><font size=\"2\">58</font></td><td><b><font size=\"2\"><a href=\"/movies/?id=amadeahalloween2.htm\">Tyler Perry's Boo 2! A Madea Halloween</a></font></b></td><td><font size=\"2\"><a href=\"/studio/chart/?studio=lionsgate.htm\">LGF</a></font></td><td align=\"right\"><font size=\"2\"><b>$47,319,572</b></font></td><td align=\"right\"><font size=\"2\">2,388</font></td><td align=\"right\"><font size=\"2\">$21,226,953</font></td><td align=\"right\"><font size=\"2\">2,388</font></td><td align=\"right\"><font size=\"2\"><a href=\"/schedule/?view=bydate&release=theatrical&date=2017-10-20&p=.htm\">10/20</a></font></td><td align=\"right\"><font size=\"2\">12/14</font></td></tr><tr bgcolor=\"#ffffff\"><td align=\"center\"><font size=\"2\">59</font></td><td><b><font size=\"2\"><a href=\"/movies/?id=motherdaughter.htm\">Snatched</a></font></b></td><td><font size=\"2\"><a href=\"/studio/chart/?studio=fox.htm\">Fox</a></font></td><td align=\"right\"><font size=\"2\"><b>$45,852,178</b></font></td><td align=\"right\"><font size=\"2\">3,511</font></td><td align=\"right\"><font size=\"2\">$19,542,248</font></td><td align=\"right\"><font size=\"2\">3,501</font></td><td align=\"right\"><font size=\"2\"><a href=\"/schedule/?view=bydate&release=theatrical&date=2017-05-12&p=.htm\">5/12</a></font></td><td align=\"right\"><font size=\"2\">8/3</font></td></tr><tr bgcolor=\"#f4f4ff\"><td align=\"center\"><font size=\"2\">60</font></td><td><b><font size=\"2\"><a href=\"/movies/?id=greatwall.htm\">The Great Wall</a></font></b></td><td><font size=\"2\"><a href=\"/studio/chart/?studio=universal.htm\">Uni.</a></font></td><td align=\"right\"><font size=\"2\"><b>$45,540,830</b></font></td><td align=\"right\"><font size=\"2\">3,328</font></td><td align=\"right\"><font size=\"2\">$18,469,620</font></td><td align=\"right\"><font size=\"2\">3,326</font></td><td align=\"right\"><font size=\"2\"><a href=\"/schedule/?view=bydate&release=theatrical&date=2017-02-17&p=.htm\">2/17</a></font></td><td align=\"right\"><font size=\"2\">6/1</font></td></tr><tr bgcolor=\"#ffffff\"><td align=\"center\"><font size=\"2\">61</font></td><td><b><font size=\"2\"><a href=\"/movies/?id=smurfs3.htm\">Smurfs: The Lost Village</a></font></b></td><td><font size=\"2\"><a href=\"/studio/chart/?studio=sony.htm\">Sony</a></font></td><td align=\"right\"><font size=\"2\"><b>$45,020,282</b></font></td><td align=\"right\"><font size=\"2\">3,610</font></td><td align=\"right\"><font size=\"2\">$13,210,449</font></td><td align=\"right\"><font size=\"2\">3,610</font></td><td align=\"right\"><font size=\"2\"><a href=\"/schedule/?view=bydate&release=theatrical&date=2017-04-07&p=.htm\">4/7</a></font></td><td align=\"right\"><font size=\"2\">8/3</font></td></tr><tr bgcolor=\"#f4f4ff\"><td align=\"center\"><font size=\"2\">62</font></td><td><b><font size=\"2\"><a href=\"/movies/?id=goinginsty2017.htm\">Going in Style (2017)</a></font></b></td><td><font size=\"2\"><a href=\"/studio/chart/?studio=wb-newline.htm\">WB (NL)</a></font></td><td align=\"right\"><font size=\"2\"><b>$45,018,541</b></font></td><td align=\"right\"><font size=\"2\">3,076</font></td><td align=\"right\"><font size=\"2\">$11,932,330</font></td><td align=\"right\"><font size=\"2\">3,061</font></td><td align=\"right\"><font size=\"2\"><a href=\"/schedule/?view=bydate&release=theatrical&date=2017-04-07&p=.htm\">4/7</a></font></td><td align=\"right\"><font size=\"2\">7/13</font></td></tr><tr bgcolor=\"#ffffff\"><td align=\"center\"><font size=\"2\">63</font></td><td><b><font size=\"2\"><a href=\"/movies/?id=tupac.htm\">All Eyez on Me</a></font></b></td><td><font size=\"2\"><a href=\"/studio/chart/?studio=lionsgatesummit.htm\">LG/S</a></font></td><td align=\"right\"><font size=\"2\"><b>$44,922,302</b></font></td><td align=\"right\"><font size=\"2\">2,471</font></td><td align=\"right\"><font size=\"2\">$26,435,354</font></td><td align=\"right\"><font size=\"2\">2,471</font></td><td align=\"right\"><font size=\"2\"><a href=\"/schedule/?view=bydate&release=theatrical&date=2017-06-16&p=.htm\">6/16</a></font></td><td align=\"right\"><font size=\"2\">8/3</font></td></tr><tr bgcolor=\"#f4f4ff\"><td align=\"center\"><font size=\"2\">64</font></td><td><b><font size=\"2\"><a href=\"/movies/?id=xxx3.htm\">xXx: The Return of Xander Cage</a></font></b></td><td><font size=\"2\"><a href=\"/studio/chart/?studio=paramount.htm\">Par.</a></font></td><td align=\"right\"><font size=\"2\"><b>$44,898,413</b></font></td><td align=\"right\"><font size=\"2\">3,651</font></td><td align=\"right\"><font size=\"2\">$20,130,142</font></td><td align=\"right\"><font size=\"2\">3,651</font></td><td align=\"right\"><font size=\"2\"><a href=\"/schedule/?view=bydate&release=theatrical&date=2017-01-20&p=.htm\">1/20</a></font></td><td align=\"right\"><font size=\"2\">3/16</font></td></tr><tr bgcolor=\"#ffffff\"><td align=\"center\"><font size=\"2\">65</font></td><td><b><font size=\"2\"><a href=\"/movies/?id=47metersdown.htm\">47 Meters Down</a></font></b></td><td><font size=\"2\"><a href=\"/studio/chart/?studio=entertainmentstudios.htm\">ENTMP</a></font></td><td align=\"right\"><font size=\"2\"><b>$44,307,192</b></font></td><td align=\"right\"><font size=\"2\">2,471</font></td><td align=\"right\"><font size=\"2\">$11,205,561</font></td><td align=\"right\"><font size=\"2\">2,270</font></td><td align=\"right\"><font size=\"2\"><a href=\"/schedule/?view=bydate&release=theatrical&date=2017-06-16&p=.htm\">6/16</a></font></td><td align=\"right\"><font size=\"2\">10/19</font></td></tr><tr bgcolor=\"#f4f4ff\"><td align=\"center\"><font size=\"2\">66</font></td><td><b><font size=\"2\"><a href=\"/movies/?id=thebigsick.htm\">The Big Sick</a></font></b></td><td><font size=\"2\"><a href=\"/studio/chart/?studio=lionsgate.htm\">LGF</a></font></td><td align=\"right\"><font size=\"2\"><b>$42,873,127</b></font></td><td align=\"right\"><font size=\"2\">2,597</font></td><td align=\"right\"><font size=\"2\">$421,577</font></td><td align=\"right\"><font size=\"2\">5</font></td><td align=\"right\"><font size=\"2\"><a href=\"/schedule/?view=bydate&release=theatrical&date=2017-07-14&p=.htm\">7/14</a></font></td><td align=\"right\"><font size=\"2\">10/22</font></td></tr><tr bgcolor=\"#ffffff\"><td align=\"center\"><font size=\"2\">67</font></td><td><b><font size=\"2\"><a href=\"/movies/?id=valerian.htm\">Valerian and the City of a Thousand Planets</a></font></b></td><td><font size=\"2\"><a href=\"/studio/chart/?studio=stx.htm\">STX</a></font></td><td align=\"right\"><font size=\"2\"><b>$41,189,488</b></font></td><td align=\"right\"><font size=\"2\">3,553</font></td><td align=\"right\"><font size=\"2\">$17,007,624</font></td><td align=\"right\"><font size=\"2\">3,553</font></td><td align=\"right\"><font size=\"2\"><a href=\"/schedule/?view=bydate&release=theatrical&date=2017-07-21&p=.htm\">7/21</a></font></td><td align=\"right\"><font size=\"2\">9/21</font></td></tr><tr bgcolor=\"#f4f4ff\"><td align=\"center\"><font size=\"2\">68</font></td><td><b><font size=\"2\"><a href=\"/movies/?id=thelamb.htm\">The Star</a></font></b></td><td><font size=\"2\"><a href=\"/studio/chart/?studio=sony.htm\">Sony</a></font></td><td align=\"right\"><font size=\"2\"><b>$40,852,824</b></font></td><td align=\"right\"><font size=\"2\">2,976</font></td><td align=\"right\"><font size=\"2\">$9,812,674</font></td><td align=\"right\"><font size=\"2\">2,837</font></td><td align=\"right\"><font size=\"2\"><a href=\"/schedule/?view=bydate&release=theatrical&date=2017-11-17&p=.htm\">11/17</a></font></td><td align=\"right\"><font size=\"2\">2/15</font></td></tr><tr bgcolor=\"#ffffff\"><td align=\"center\"><font size=\"2\">69</font></td><td><b><font size=\"2\"><a href=\"/movies/?id=ghostintheshell2017.htm\">Ghost in the Shell (2017)</a></font></b></td><td><font size=\"2\"><a href=\"/studio/chart/?studio=paramount.htm\">Par.</a></font></td><td align=\"right\"><font size=\"2\"><b>$40,563,557</b></font></td><td align=\"right\"><font size=\"2\">3,440</font></td><td align=\"right\"><font size=\"2\">$18,676,033</font></td><td align=\"right\"><font size=\"2\">3,440</font></td><td align=\"right\"><font size=\"2\"><a href=\"/schedule/?view=bydate&release=theatrical&date=2017-03-31&p=.htm\">3/31</a></font></td><td align=\"right\"><font size=\"2\">5/25</font></td></tr><tr bgcolor=\"#f4f4ff\"><td align=\"center\"><font size=\"2\">70</font></td><td><b><font size=\"2\"><a href=\"/movies/?id=kingarthur2016.htm\">King Arthur: Legend of the Sword</a></font></b></td><td><font size=\"2\"><a href=\"/studio/chart/?studio=warnerbros.htm\">WB</a></font></td><td align=\"right\"><font size=\"2\"><b>$39,175,066</b></font></td><td align=\"right\"><font size=\"2\">3,702</font></td><td align=\"right\"><font size=\"2\">$15,371,270</font></td><td align=\"right\"><font size=\"2\">3,702</font></td><td align=\"right\"><font size=\"2\"><a href=\"/schedule/?view=bydate&release=theatrical&date=2017-05-12&p=.htm\">5/12</a></font></td><td align=\"right\"><font size=\"2\">7/20</font></td></tr><tr bgcolor=\"#ffffff\"><td align=\"center\"><font size=\"2\">71</font></td><td><b><font size=\"2\"><a href=\"/movies/?id=saw2017.htm\">Jigsaw</a></font></b></td><td><font size=\"2\"><a href=\"/studio/chart/?studio=lionsgate.htm\">LGF</a></font></td><td align=\"right\"><font size=\"2\"><b>$38,052,832</b></font></td><td align=\"right\"><font size=\"2\">2,941</font></td><td align=\"right\"><font size=\"2\">$16,640,452</font></td><td align=\"right\"><font size=\"2\">2,941</font></td><td align=\"right\"><font size=\"2\"><a href=\"/schedule/?view=bydate&release=theatrical&date=2017-10-27&p=.htm\">10/27</a></font></td><td align=\"right\"><font size=\"2\">12/21</font></td></tr><tr bgcolor=\"#f4f4ff\"><td align=\"center\"><font size=\"2\">72</font></td><td><b><font size=\"2\"><a href=\"/movies/?id=americanassassin.htm\">American Assassin</a></font></b></td><td><font size=\"2\"><a href=\"/studio/chart/?studio=lionsgate.htm\">LGF</a></font></td><td align=\"right\"><font size=\"2\"><b>$36,249,674</b></font></td><td align=\"right\"><font size=\"2\">3,154</font></td><td align=\"right\"><font size=\"2\">$14,846,778</font></td><td align=\"right\"><font size=\"2\">3,154</font></td><td align=\"right\"><font size=\"2\"><a href=\"/schedule/?view=bydate&release=theatrical&date=2017-09-15&p=.htm\">9/15</a></font></td><td align=\"right\"><font size=\"2\">11/9</font></td></tr><tr bgcolor=\"#ffffff\"><td align=\"center\"><font size=\"2\">73</font></td><td><b><font size=\"2\"><a href=\"/movies/?id=theforeigner.htm\">The Foreigner</a></font></b></td><td><font size=\"2\"><a href=\"/studio/chart/?studio=stx.htm\">STX</a></font></td><td align=\"right\"><font size=\"2\"><b>$34,393,507</b></font></td><td align=\"right\"><font size=\"2\">2,515</font></td><td align=\"right\"><font size=\"2\">$13,113,024</font></td><td align=\"right\"><font size=\"2\">2,515</font></td><td align=\"right\"><font size=\"2\"><a href=\"/schedule/?view=bydate&release=theatrical&date=2017-10-13&p=.htm\">10/13</a></font></td><td align=\"right\"><font size=\"2\">12/21</font></td></tr><tr bgcolor=\"#f4f4ff\"><td align=\"center\"><font size=\"2\">74</font></td><td><b><font size=\"2\"><a href=\"/movies/?id=everythingeverything.htm\">Everything, Everything</a></font></b></td><td><font size=\"2\"><a href=\"/studio/chart/?studio=warnerbros.htm\">WB</a></font></td><td align=\"right\"><font size=\"2\"><b>$34,121,140</b></font></td><td align=\"right\"><font size=\"2\">2,801</font></td><td align=\"right\"><font size=\"2\">$11,727,390</font></td><td align=\"right\"><font size=\"2\">2,801</font></td><td align=\"right\"><font size=\"2\"><a href=\"/schedule/?view=bydate&release=theatrical&date=2017-05-19&p=.htm\">5/19</a></font></td><td align=\"right\"><font size=\"2\">7/27</font></td></tr><tr bgcolor=\"#ffffff\"><td align=\"center\"><font size=\"2\">75</font></td><td><b><font size=\"2\"><a href=\"/movies/?id=windriver.htm\">Wind River</a></font></b></td><td><font size=\"2\"><a href=\"/studio/chart/?studio=weinsteincompany.htm\">Wein.</a></font></td><td align=\"right\"><font size=\"2\"><b>$33,800,859</b></font></td><td align=\"right\"><font size=\"2\">2,890</font></td><td align=\"right\"><font size=\"2\">$161,558</font></td><td align=\"right\"><font size=\"2\">4</font></td><td align=\"right\"><font size=\"2\"><a href=\"/schedule/?view=bydate&release=theatrical&date=2017-08-18&p=.htm\">8/18</a></font></td><td align=\"right\"><font size=\"2\">12/7</font></td></tr><tr bgcolor=\"#f4f4ff\"><td align=\"center\"><font size=\"2\">76</font></td><td><b><font size=\"2\"><a href=\"/movies/?id=geostorm.htm\">Geostorm</a></font></b></td><td><font size=\"2\"><a href=\"/studio/chart/?studio=warnerbros.htm\">WB</a></font></td><td align=\"right\"><font size=\"2\"><b>$33,700,160</b></font></td><td align=\"right\"><font size=\"2\">3,246</font></td><td align=\"right\"><font size=\"2\">$13,707,376</font></td><td align=\"right\"><font size=\"2\">3,246</font></td><td align=\"right\"><font size=\"2\"><a href=\"/schedule/?view=bydate&release=theatrical&date=2017-10-20&p=.htm\">10/20</a></font></td><td align=\"right\"><font size=\"2\">1/11</font></td></tr><tr bgcolor=\"#ffffff\"><td align=\"center\"><font size=\"2\">77</font></td><td><b><font size=\"2\"><a href=\"/movies/?id=monstertrucks.htm\">Monster Trucks</a></font></b></td><td><font size=\"2\"><a href=\"/studio/chart/?studio=paramount.htm\">Par.</a></font></td><td align=\"right\"><font size=\"2\"><b>$33,370,166</b></font></td><td align=\"right\"><font size=\"2\">3,119</font></td><td align=\"right\"><font size=\"2\">$10,950,705</font></td><td align=\"right\"><font size=\"2\">3,119</font></td><td align=\"right\"><font size=\"2\"><a href=\"/schedule/?view=bydate&release=theatrical&date=2017-01-13&p=.htm\">1/13</a></font></td><td align=\"right\"><font size=\"2\">3/16</font></td></tr><tr bgcolor=\"#f4f4ff\"><td align=\"center\"><font size=\"2\">78</font></td><td><b><font size=\"2\"><a href=\"/movies/?id=fistfight.htm\">Fist Fight</a></font></b></td><td><font size=\"2\"><a href=\"/studio/chart/?studio=wb-newline.htm\">WB (NL)</a></font></td><td align=\"right\"><font size=\"2\"><b>$32,187,017</b></font></td><td align=\"right\"><font size=\"2\">3,185</font></td><td align=\"right\"><font size=\"2\">$12,201,873</font></td><td align=\"right\"><font size=\"2\">3,185</font></td><td align=\"right\"><font size=\"2\"><a href=\"/schedule/?view=bydate&release=theatrical&date=2017-02-17&p=.htm\">2/17</a></font></td><td align=\"right\"><font size=\"2\">4/13</font></td></tr><tr bgcolor=\"#ffffff\"><td align=\"center\"><font size=\"2\">79</font></td><td><b><font size=\"2\"><a href=\"/movies/?id=howtobealatinlover.htm\">How to be a Latin Lover</a></font></b></td><td><font size=\"2\"><a href=\"/studio/chart/?studio=pantelion.htm\">PNT</a></font></td><td align=\"right\"><font size=\"2\"><b>$32,149,404</b></font></td><td align=\"right\"><font size=\"2\">1,203</font></td><td align=\"right\"><font size=\"2\">$12,252,439</font></td><td align=\"right\"><font size=\"2\">1,118</font></td><td align=\"right\"><font size=\"2\"><a href=\"/schedule/?view=bydate&release=theatrical&date=2017-04-28&p=.htm\">4/28</a></font></td><td align=\"right\"><font size=\"2\">6/22</font></td></tr><tr bgcolor=\"#f4f4ff\"><td align=\"center\"><font size=\"2\">80</font></td><td><b><font size=\"2\"><a href=\"/movies/?id=patriotsday.htm\">Patriots Day</a></font></b></td><td><font size=\"2\"><a href=\"/studio/chart/?studio=lionsgate.htm\">LGF</a></font></td><td align=\"right\"><font size=\"2\"><b>$31,886,361</b></font></td><td align=\"right\"><font size=\"2\">3,120</font></td><td align=\"right\"><font size=\"2\">$161,306</font></td><td align=\"right\"><font size=\"2\">7</font></td><td align=\"right\"><font size=\"2\"><a href=\"/schedule/?view=bydate&release=theatrical&date=2017-01-13&p=.htm\">1/13</a></font></td><td align=\"right\"><font size=\"2\">3/9</font></td></tr><tr bgcolor=\"#ffffff\"><td align=\"center\"><font size=\"2\">81</font></td><td><b><font size=\"2\"><a href=\"/movies/?id=kidnap2015.htm\">Kidnap (2017)</a></font></b></td><td><font size=\"2\"><a href=\"/studio/chart/?studio=aviron.htm\">Aviron</a></font></td><td align=\"right\"><font size=\"2\"><b>$30,718,107</b></font></td><td align=\"right\"><font size=\"2\">2,418</font></td><td align=\"right\"><font size=\"2\">$10,016,323</font></td><td align=\"right\"><font size=\"2\">2,378</font></td><td align=\"right\"><font size=\"2\"><a href=\"/schedule/?view=bydate&release=theatrical&date=2017-08-04&p=.htm\">8/4</a></font></td><td align=\"right\"><font size=\"2\">11/16</font></td></tr><tr bgcolor=\"#f4f4ff\"><td align=\"center\"><font size=\"2\">82</font></td><td><b><font size=\"2\"><a href=\"/movies/?id=underworld5.htm\">Underworld: Blood Wars</a></font></b></td><td><font size=\"2\"><a href=\"/studio/chart/?studio=screengems.htm\">SGem</a></font></td><td align=\"right\"><font size=\"2\"><b>$30,353,973</b></font></td><td align=\"right\"><font size=\"2\">3,070</font></td><td align=\"right\"><font size=\"2\">$13,688,751</font></td><td align=\"right\"><font size=\"2\">3,070</font></td><td align=\"right\"><font size=\"2\"><a href=\"/schedule/?view=bydate&release=theatrical&date=2017-01-06&p=.htm\">1/6</a></font></td><td align=\"right\"><font size=\"2\">3/9</font></td></tr><tr bgcolor=\"#ffffff\"><td align=\"center\"><font size=\"2\">83</font></td><td><b><font size=\"2\"><a href=\"/movies/?id=mountainbetweenus.htm\">The Mountain Between Us</a></font></b></td><td><font size=\"2\"><a href=\"/studio/chart/?studio=fox.htm\">Fox</a></font></td><td align=\"right\"><font size=\"2\"><b>$30,348,555</b></font></td><td align=\"right\"><font size=\"2\">3,259</font></td><td align=\"right\"><font size=\"2\">$10,551,336</font></td><td align=\"right\"><font size=\"2\">3,088</font></td><td align=\"right\"><font size=\"2\"><a href=\"/schedule/?view=bydate&release=theatrical&date=2017-10-06&p=.htm\">10/6</a></font></td><td align=\"right\"><font size=\"2\">12/21</font></td></tr><tr bgcolor=\"#f4f4ff\"><td align=\"center\"><font size=\"2\">84</font></td><td><b><font size=\"2\"><a href=\"/movies/?id=life2017.htm\">Life (2017)</a></font></b></td><td><font size=\"2\"><a href=\"/studio/chart/?studio=sony.htm\">Sony</a></font></td><td align=\"right\"><font size=\"2\"><b>$30,234,022</b></font></td><td align=\"right\"><font size=\"2\">3,146</font></td><td align=\"right\"><font size=\"2\">$12,501,936</font></td><td align=\"right\"><font size=\"2\">3,146</font></td><td align=\"right\"><font size=\"2\"><a href=\"/schedule/?view=bydate&release=theatrical&date=2017-03-24&p=.htm\">3/24</a></font></td><td align=\"right\"><font size=\"2\">6/1</font></td></tr><tr bgcolor=\"#ffffff\"><td align=\"center\"><font size=\"2\">85</font></td><td><b><font size=\"2\"><a href=\"/movies/?id=nutjob2.htm\">The Nut Job 2: Nutty by Nature</a></font></b></td><td><font size=\"2\"><a href=\"/studio/chart/?studio=openroads.htm\">ORF</a></font></td><td align=\"right\"><font size=\"2\"><b>$28,370,522</b></font></td><td align=\"right\"><font size=\"2\">4,003</font></td><td align=\"right\"><font size=\"2\">$8,342,311</font></td><td align=\"right\"><font size=\"2\">4,003</font></td><td align=\"right\"><font size=\"2\"><a href=\"/schedule/?view=bydate&release=theatrical&date=2017-08-11&p=.htm\">8/11</a></font></td><td align=\"right\"><font size=\"2\">9/28</font></td></tr><tr bgcolor=\"#f4f4ff\"><td align=\"center\"><font size=\"2\">86</font></td><td><b><font size=\"2\"><a href=\"/movies/?id=rings.htm\">Rings</a></font></b></td><td><font size=\"2\"><a href=\"/studio/chart/?studio=paramount.htm\">Par.</a></font></td><td align=\"right\"><font size=\"2\"><b>$27,793,018</b></font></td><td align=\"right\"><font size=\"2\">2,931</font></td><td align=\"right\"><font size=\"2\">$13,002,632</font></td><td align=\"right\"><font size=\"2\">2,931</font></td><td align=\"right\"><font size=\"2\"><a href=\"/schedule/?view=bydate&release=theatrical&date=2017-02-03&p=.htm\">2/3</a></font></td><td align=\"right\"><font size=\"2\">3/23</font></td></tr><tr bgcolor=\"#ffffff\"><td align=\"center\"><font size=\"2\">87</font></td><td><b><font size=\"2\"><a href=\"/movies/?id=loganlucky.htm\">Logan Lucky</a></font></b></td><td><font size=\"2\"><a href=\"/studio/chart/?studio=bleeckerstreet.htm\">BST</a></font></td><td align=\"right\"><font size=\"2\"><b>$27,780,977</b></font></td><td align=\"right\"><font size=\"2\">3,031</font></td><td align=\"right\"><font size=\"2\">$7,600,036</font></td><td align=\"right\"><font size=\"2\">3,031</font></td><td align=\"right\"><font size=\"2\"><a href=\"/schedule/?view=bydate&release=theatrical&date=2017-08-18&p=.htm\">8/18</a></font></td><td align=\"right\"><font size=\"2\">11/9</font></td></tr><tr bgcolor=\"#f4f4ff\"><td align=\"center\"><font size=\"2\">88</font></td><td><b><font size=\"2\"><a href=\"/movies/?id=homeagain.htm\">Home Again</a></font></b></td><td><font size=\"2\"><a href=\"/studio/chart/?studio=openroads.htm\">ORF</a></font></td><td align=\"right\"><font size=\"2\"><b>$27,020,284</b></font></td><td align=\"right\"><font size=\"2\">3,036</font></td><td align=\"right\"><font size=\"2\">$8,567,881</font></td><td align=\"right\"><font size=\"2\">2,940</font></td><td align=\"right\"><font size=\"2\"><a href=\"/schedule/?view=bydate&release=theatrical&date=2017-09-08&p=.htm\">9/8</a></font></td><td align=\"right\"><font size=\"2\">11/9</font></td></tr><tr bgcolor=\"#ffffff\"><td align=\"center\"><font size=\"2\">89</font></td><td><b><font size=\"2\"><a href=\"/movies/?id=residentevil6.htm\">Resident Evil: The Final Chapter</a></font></b></td><td><font size=\"2\"><a href=\"/studio/chart/?studio=screengems.htm\">SGem</a></font></td><td align=\"right\"><font size=\"2\"><b>$26,830,068</b></font></td><td align=\"right\"><font size=\"2\">3,104</font></td><td align=\"right\"><font size=\"2\">$13,601,682</font></td><td align=\"right\"><font size=\"2\">3,104</font></td><td align=\"right\"><font size=\"2\"><a href=\"/schedule/?view=bydate&release=theatrical&date=2017-01-27&p=.htm\">1/27</a></font></td><td align=\"right\"><font size=\"2\">3/30</font></td></tr><tr bgcolor=\"#f4f4ff\"><td align=\"center\"><font size=\"2\">90</font></td><td><b><font size=\"2\"><a href=\"/movies/?id=thehouse.htm\">The House</a></font></b></td><td><font size=\"2\"><a href=\"/studio/chart/?studio=wb-newline.htm\">WB (NL)</a></font></td><td align=\"right\"><font size=\"2\"><b>$25,584,504</b></font></td><td align=\"right\"><font size=\"2\">3,134</font></td><td align=\"right\"><font size=\"2\">$8,724,795</font></td><td align=\"right\"><font size=\"2\">3,134</font></td><td align=\"right\"><font size=\"2\"><a href=\"/schedule/?view=bydate&release=theatrical&date=2017-06-30&p=.htm\">6/30</a></font></td><td align=\"right\"><font size=\"2\">8/31</font></td></tr><tr bgcolor=\"#ffffff\"><td align=\"center\"><font size=\"2\">91</font></td><td><b><font size=\"2\"><a href=\"/movies/?id=allthemoneyintheworld.htm\">All the Money in the World</a></font></b></td><td><font size=\"2\"><a href=\"/studio/chart/?studio=tristar.htm\">TriS</a></font></td><td align=\"right\"><font size=\"2\"><b>$25,113,707</b></font></td><td align=\"right\"><font size=\"2\">2,123</font></td><td align=\"right\"><font size=\"2\">$5,584,684</font></td><td align=\"right\"><font size=\"2\">2,074</font></td><td align=\"right\"><font size=\"2\"><a href=\"/schedule/?view=bydate&release=theatrical&date=2017-12-25&p=.htm\">12/25</a></font></td><td align=\"right\"><font size=\"2\">3/22</font></td></tr><tr bgcolor=\"#f4f4ff\"><td align=\"center\"><font size=\"2\">92</font></td><td><b><font size=\"2\"><a href=\"/movies/?id=gifted.htm\">Gifted</a></font></b></td><td><font size=\"2\"><a href=\"/studio/chart/?studio=foxsearchlight.htm\">FoxS</a></font></td><td align=\"right\"><font size=\"2\"><b>$24,801,212</b></font></td><td align=\"right\"><font size=\"2\">2,215</font></td><td align=\"right\"><font size=\"2\">$446,380</font></td><td align=\"right\"><font size=\"2\">56</font></td><td align=\"right\"><font size=\"2\"><a href=\"/schedule/?view=bydate&release=theatrical&date=2017-04-12&p=.htm\">4/12</a></font></td><td align=\"right\"><font size=\"2\">8/24</font></td></tr><tr bgcolor=\"#ffffff\"><td align=\"center\"><font size=\"2\">93</font></td><td><b><font size=\"2\"><a href=\"/movies/?id=downsizing.htm\">Downsizing</a></font></b></td><td><font size=\"2\"><a href=\"/studio/chart/?studio=paramount.htm\">Par.</a></font></td><td align=\"right\"><font size=\"2\"><b>$24,449,754</b></font></td><td align=\"right\"><font size=\"2\">2,668</font></td><td align=\"right\"><font size=\"2\">$4,954,287</font></td><td align=\"right\"><font size=\"2\">2,668</font></td><td align=\"right\"><font size=\"2\"><a href=\"/schedule/?view=bydate&release=theatrical&date=2017-12-22&p=.htm\">12/22</a></font></td><td align=\"right\"><font size=\"2\">2/1</font></td></tr><tr bgcolor=\"#f4f4ff\"><td align=\"center\"><font size=\"2\">94</font></td><td><b><font size=\"2\"><a href=\"/movies/?id=thebyebyeman.htm\">The Bye Bye Man</a></font></b></td><td><font size=\"2\"><a href=\"/studio/chart/?studio=stx.htm\">STX</a></font></td><td align=\"right\"><font size=\"2\"><b>$22,395,806</b></font></td><td align=\"right\"><font size=\"2\">2,220</font></td><td align=\"right\"><font size=\"2\">$13,501,349</font></td><td align=\"right\"><font size=\"2\">2,220</font></td><td align=\"right\"><font size=\"2\"><a href=\"/schedule/?view=bydate&release=theatrical&date=2017-01-13&p=.htm\">1/13</a></font></td><td align=\"right\"><font size=\"2\">2/16</font></td></tr><tr bgcolor=\"#ffffff\"><td align=\"center\"><font size=\"2\">95</font></td><td><b><font size=\"2\"><a href=\"/movies/?id=victoriaandabdul.htm\">Victoria and Abdul</a></font></b></td><td><font size=\"2\"><a href=\"/studio/chart/?studio=focus.htm\">Focus</a></font></td><td align=\"right\"><font size=\"2\"><b>$22,245,070</b></font></td><td align=\"right\"><font size=\"2\">1,060</font></td><td align=\"right\"><font size=\"2\">$158,845</font></td><td align=\"right\"><font size=\"2\">4</font></td><td align=\"right\"><font size=\"2\"><a href=\"/schedule/?view=bydate&release=theatrical&date=2017-10-06&p=.htm\">10/6</a></font></td><td align=\"right\"><font size=\"2\">1/4</font></td></tr><tr bgcolor=\"#f4f4ff\"><td align=\"center\"><font size=\"2\">96</font></td><td><b><font size=\"2\"><a href=\"/movies/?id=rockthatbody.htm\">Rough Night</a></font></b></td><td><font size=\"2\"><a href=\"/studio/chart/?studio=sony.htm\">Sony</a></font></td><td align=\"right\"><font size=\"2\"><b>$22,105,643</b></font></td><td align=\"right\"><font size=\"2\">3,162</font></td><td align=\"right\"><font size=\"2\">$8,004,283</font></td><td align=\"right\"><font size=\"2\">3,162</font></td><td align=\"right\"><font size=\"2\"><a href=\"/schedule/?view=bydate&release=theatrical&date=2017-06-16&p=.htm\">6/16</a></font></td><td align=\"right\"><font size=\"2\">8/31</font></td></tr><tr bgcolor=\"#ffffff\"><td align=\"center\"><font size=\"2\">97</font></td><td><b><font size=\"2\"><a href=\"/movies/?id=mylittlepony2017.htm\">My Little Pony: The Movie</a></font></b></td><td><font size=\"2\"><a href=\"/studio/chart/?studio=lionsgate.htm\">LGF</a></font></td><td align=\"right\"><font size=\"2\"><b>$21,885,107</b></font></td><td align=\"right\"><font size=\"2\">2,528</font></td><td align=\"right\"><font size=\"2\">$8,885,899</font></td><td align=\"right\"><font size=\"2\">2,528</font></td><td align=\"right\"><font size=\"2\"><a href=\"/schedule/?view=bydate&release=theatrical&date=2017-10-06&p=.htm\">10/6</a></font></td><td align=\"right\"><font size=\"2\">-</font></td></tr><tr bgcolor=\"#f4f4ff\"><td align=\"center\"><font size=\"2\">98</font></td><td><b><font size=\"2\"><a href=\"/movies/?id=leap.htm\">Leap!</a></font></b></td><td><font size=\"2\"><a href=\"/studio/chart/?studio=weinsteincompany.htm\">Wein.</a></font></td><td align=\"right\"><font size=\"2\"><b>$21,858,070</b></font></td><td align=\"right\"><font size=\"2\">2,705</font></td><td align=\"right\"><font size=\"2\">$4,730,038</font></td><td align=\"right\"><font size=\"2\">2,575</font></td><td align=\"right\"><font size=\"2\"><a href=\"/schedule/?view=bydate&release=theatrical&date=2017-08-25&p=.htm\">8/25</a></font></td><td align=\"right\"><font size=\"2\">12/7</font></td></tr><tr bgcolor=\"#ffffff\"><td align=\"center\"><font size=\"2\">99</font></td><td><b><font size=\"2\"><a href=\"/movies/?id=thedisasterartist.htm\">The Disaster Artist</a></font></b></td><td><font size=\"2\"><a href=\"/studio/chart/?studio=a24.htm\">A24</a></font></td><td align=\"right\"><font size=\"2\"><b>$21,120,616</b></font></td><td align=\"right\"><font size=\"2\">1,010</font></td><td align=\"right\"><font size=\"2\">$1,211,345</font></td><td align=\"right\"><font size=\"2\">19</font></td><td align=\"right\"><font size=\"2\"><a href=\"/schedule/?view=bydate&release=theatrical&date=2017-12-08&p=.htm\">12/8</a></font></td><td align=\"right\"><font size=\"2\">3/8</font></td></tr><tr bgcolor=\"#f4f4ff\"><td align=\"center\"><font size=\"2\">100</font></td><td><b><font size=\"2\"><a href=\"/movies/?id=sleepless.htm\">Sleepless</a></font></b></td><td><font size=\"2\"><a href=\"/studio/chart/?studio=openroads.htm\">ORF</a></font></td><td align=\"right\"><font size=\"2\"><b>$20,783,704</b></font></td><td align=\"right\"><font size=\"2\">1,803</font></td><td align=\"right\"><font size=\"2\">$8,344,128</font></td><td align=\"right\"><font size=\"2\">1,803</font></td><td align=\"right\"><font size=\"2\"><a href=\"/schedule/?view=bydate&release=theatrical&date=2017-01-13&p=.htm\">1/13</a></font></td><td align=\"right\"><font size=\"2\">3/9</font></td></tr><tr bgcolor=\"#dcdcdc\"><td colspan=\"9\" align=\"center\"><font size=\"2\"><b>Summary of 165 Movies on Chart:</b></font></td></tr><tr bgcolor=\"#f4f4ff\"><td align=\"right\" colspan=\"3\"><font size=\"2\"><b>Totals:</b></td><td align=\"right\"><font size=\"2\">$10,916,762,707</font></td><td align=\"center\"><font size=\"2\">-</font></td><td align=\"center\"><font size=\"2\">-</font></td><td align=\"center\"><font size=\"2\">-</font></td><td align=\"center\"><font size=\"2\">-</font></td><td align=\"center\"><font size=\"2\">-</font></td></tr><tr bgcolor=\"#ffffff\"><td align=\"right\" colspan=\"3\"><font size=\"2\"><b>Averages:</b></td><td align=\"right\"><font size=\"2\">$66,162,198</font></td><td align=\"right\"><font size=\"2\">-</font></td><td align=\"right\"><font size=\"2\">-</font></td><td align=\"right\"><font size=\"2\">-</font></td><td align=\"center\"><font size=\"2\">-</font></td><td align=\"center\"><font size=\"2\">-</font></td></tr><tr bgcolor=\"#dcdcdc\"><td colspan=\"9\"><img src=\"/images/space.gif\" width=\"1\" height=\"1\"></td></tr></table></td></tr><tr><td valign=\"bottom\"><font face=\"Verdana\" size=\"1\"><b><a href=\"/yearly/chart/?yr=2016&view=widedate&view2=domestic&sort=gross&order=DESC&&p=.htm\">&lt; Previous Year</a></b></font></td><td align=\"center\"><table border=\"0\" cellspacing=\"0\" cellpadding=\"0\">\n",
      "\t\t\t\t\t<form method=\"POST\" action=\"yearly.asof.php\" name=\"asofjump\">\n",
      "\t\t\t\t\t<tr><td><font face=\"Verdana\" size=\"1\"><br>Data as of:\n",
      "\t\t\t\t\t<select size=\"1\" name=\"asof\" style=\"font-size: 8pt\">\n",
      "\t\t\t\t\t<option selected value=\"today\">Today</option>\n",
      "\t\t\t\t\t<option  value=\"sametime\">Today in 2017</option>\n",
      "\t\t\t\t\t<option value=\"2017-01-31\">Jan. 31, 2017</option>\n",
      "\t\t\t\t\t<option value=\"2017-02-28\">Feb. 28, 2017</option>\n",
      "\t\t\t\t\t<option value=\"2017-03-31\">Mar. 31, 2017</option>\n",
      "\t\t\t\t\t<option value=\"2017-04-30\">Apr. 30, 2017</option>\n",
      "\t\t\t\t\t<option value=\"2017-05-31\">May 31, 2017</option>\n",
      "\t\t\t\t\t<option value=\"2017-06-30\">Jun. 30, 2017</option>\n",
      "\t\t\t\t\t<option value=\"2017-07-31\">Jul. 31, 2017</option>\n",
      "\t\t\t\t\t<option value=\"2017-08-31\">Aug. 31, 2017</option>\n",
      "\t\t\t\t\t<option value=\"2017-09-30\">Sep. 30, 2017</option>\n",
      "\t\t\t\t\t<option value=\"2017-10-31\">Oct. 31, 2017</option>\n",
      "\t\t\t\t\t<option value=\"2017-11-30\">Nov. 30, 2017</option>\n",
      "\t\t\t\t\t<option value=\"2017-12-31\">Dec. 31, 2017</option>\n",
      "\t\t\t\t\t<option value=\"specify\">Specify Date</option>\n",
      "\t\t\t\t\t<option value=\"about\">About this feature</option>\n",
      "\t\t\t\t\t</select> or (<select size=\"1\" name=\"asof_mo\" style=\"font-size: 8pt\">\n",
      "\t\t\t\t\t<option selected value=\"\">Month</option>\n",
      "\t\t\t\t\t\n",
      "\t\t\t\t\t<option value=\"01\">Jan.</option>\n",
      "\t\t\t\t\t<option value=\"02\">Feb.</option>\n",
      "\t\t\t\t\t<option value=\"03\">Mar.</option>\n",
      "\t\t\t\t\t<option value=\"04\">Apr.</option>\n",
      "\t\t\t\t\t<option value=\"05\">May</option>\n",
      "\t\t\t\t\t<option value=\"06\">Jun.</option>\n",
      "\t\t\t\t\t<option value=\"07\">Jul.</option>\n",
      "\t\t\t\t\t<option value=\"08\">Aug.</option>\n",
      "\t\t\t\t\t<option value=\"09\">Sep.</option>\n",
      "\t\t\t\t\t<option value=\"10\">Oct.</option>\n",
      "\t\t\t\t\t<option value=\"11\">Nov.</option>\n",
      "\t\t\t\t\t<option value=\"12\">Dec.</option>\n",
      "\t\t\t\t\t</select> / <select size=\"1\" name=\"asof_day\" style=\"font-size: 8pt\">\n",
      "\t\t\t\t\t<option selected value=\"\">Day</option>\n",
      "\t\t\t\t\t<option value=\"01\">1</option>\n",
      "\t\t\t\t\t<option value=\"02\">2</option>\n",
      "\t\t\t\t\t<option value=\"03\">3</option>\n",
      "\t\t\t\t\t<option value=\"04\">4</option>\n",
      "\t\t\t\t\t<option value=\"05\">5</option>\n",
      "\t\t\t\t\t<option value=\"06\">6</option>\n",
      "\t\t\t\t\t<option value=\"07\">7</option>\n",
      "\t\t\t\t\t<option value=\"08\">8</option>\n",
      "\t\t\t\t\t<option value=\"09\">9</option>\n",
      "\t\t\t\t\t<option value=\"10\">10</option>\n",
      "\t\t\t\t\t<option value=\"11\">11</option>\n",
      "\t\t\t\t\t<option value=\"12\">12</option>\n",
      "\t\t\t\t\t<option value=\"13\">13</option>\n",
      "\t\t\t\t\t<option value=\"14\">14</option>\n",
      "\t\t\t\t\t<option value=\"15\">15</option>\n",
      "\t\t\t\t\t<option value=\"16\">16</option>\n",
      "\t\t\t\t\t<option value=\"17\">17</option>\n",
      "\t\t\t\t\t<option value=\"18\">18</option>\n",
      "\t\t\t\t\t<option value=\"19\">19</option>\n",
      "\t\t\t\t\t<option value=\"20\">20</option>\n",
      "\t\t\t\t\t<option value=\"21\">21</option>\n",
      "\t\t\t\t\t<option value=\"22\">22</option>\n",
      "\t\t\t\t\t<option value=\"23\">23</option>\n",
      "\t\t\t\t\t<option value=\"24\">24</option>\n",
      "\t\t\t\t\t<option value=\"25\">25</option>\n",
      "\t\t\t\t\t<option value=\"26\">26</option>\n",
      "\t\t\t\t\t<option value=\"27\">27</option>\n",
      "\t\t\t\t\t<option value=\"28\">28</option>\n",
      "\t\t\t\t\t<option value=\"29\">29</option>\n",
      "\t\t\t\t\t<option value=\"30\">30</option>\n",
      "\t\t\t\t\t<option value=\"31\">31</option>\n",
      "\t\t\t\t\t</select> / <select size=\"1\" name=\"asof_yr\" style=\"font-size: 8pt\">\n",
      "\t\t\t\t\t\t<option selected>2017</option>\n",
      "\t\t\t\t\t\t<option>2018</option>\n",
      "\t\t\t\t\t\t</select>) <input type=\"submit\" value=\"Go\" name=\"go\" style=\"font-size: 8pt; height: 16\">\n",
      "\t\t\t\t\t</font></td></tr>\n",
      "\t\t\t\t\t<input type=\"hidden\" name=\"jumpstuff\" value=\"view=widedate&view2=domestic&yr=2017&sort=gross&order=DESC&p=.htm\">\n",
      "\t\t\t\t\t<input type=\"hidden\" name=\"curasof\" value=\"today\">\n",
      "\t\t\t\t\t<input type=\"hidden\" name=\"yr\" value=\"2017\">\n",
      "\t\t\t\t\t</form>\n",
      "\t\t\t\t\t</table>\n",
      "\t\t\t\t</font></td><td valign=\"bottom\" align=\"right\"><font face=\"Verdana\" size=\"1\"><b><a href=\"/yearly/chart/?yr=2018&view=widedate&view2=domestic&sort=gross&order=DESC&&p=.htm\">Next Year &gt;</a></b></font></td></tr></table><center><font face=\"Verdana\" size=\"4\"><b><font face=\"Verdana\" size=\"5\">#1&#150;100</font> - <a href=\"/yearly/chart/?page=2&view=widedate&view2=domestic&yr=2017&p=.htm\">#101&#150;165</a></b></font></center><br><font face=\"Verdana\" size=\"2\">Note: <b>RELEASE DATE</b> shows all movies that opened in a given time period and their total grosses. <b>WIDE RELEASES</b> shows only movies released in 600 or more theaters and their total grosses, grouped by wide release date. <b>LIMITED RELEASES</b> shows only movies released in less than 600 theaters and their total grosses, grouped by release date. <b>CALENDAR GROSSES</b> shows all movies playing during the indicated time period, both new and holdover, and their grosses (or estimated grosses) during that time period. Movies released outside the indicated time period are shown in italics. <b><a href=\"/about/boxoffice.htm\">Click here for a full explanation of the various box office sections</a></b></font><br><br>\n",
      "<P ALIGN=\"CENTER\"><A HREF=\"/yearly/\"><FONT FACE=\"Verdana\" SIZE=2><b>back to<br>Yearly Index Page</b></FONT></A></P>\n",
      "<br>\n",
      "</td><td valign=\"top\" align=\"center\" width=\"160\"><br><br><br><br><br><br><script type=\"text/javascript\">\n",
      "    googletag.cmd.push(function() {\n",
      "        googletag.defineSlot(\"/4215/imdb2.bom.other\", [[160, 600], [120, 600], [115, 600]], \"ad-slot-2\").addService(googletag.pubads().setTargeting(\"p\", \"rh\"));\n",
      "        googletag.pubads().enableSingleRequest();\n",
      "        googletag.enableServices();\n",
      "    });\n",
      "    googletag.cmd.push(function() { googletag.display(\"ad-slot-2\"); });\n",
      "</script></td></tr></table><table border=\"0\" width=\"100%\" cellspacing=\"0\" cellpadding=\"3\">\n",
      "\t<tr>\n",
      "\t\t<td bgcolor=\"#DCDCDC\" align=\"center\"><b><font face=\"Verdana\" size=\"1\"><a href=\"/yearly/chart/?view=releasedate&view2=domestic&yr=2017&p=.htm\">ALL RELEASES</a></font></b></td>\n",
      "\t\t<td bgcolor=\"#FFFFFF\" align=\"center\"><b><font face=\"Verdana\" size=\"1\"><a href=\"/yearly/chart/?view=widedate&view2=domestic&yr=2017&p=.htm\">WIDE RELEASES</font></b></td>\n",
      "\t\t<td bgcolor=\"#DCDCDC\" align=\"center\"><b><font face=\"Verdana\" size=\"1\"><a href=\"/yearly/chart/?view=limited&view2=domestic&yr=2017&p=.htm\">LIMITED RELEASES</font></b></td>\n",
      "\t\t\t\t<td bgcolor=\"#DCDCDC\" align=\"center\"><b><font face=\"Verdana\" size=\"1\"><a href=\"/yearly/chart/?view=calendargross&view2=domestic&yr=2017&p=.htm\">CALENDAR GROSSES</font></b></td>\n",
      "\t\t\t</tr>\n",
      "</table>\n",
      "<table border=\"0\" cellspacing=\"0\" cellpadding=\"0\" width=\"100%\">\n",
      "  <tr><td bgcolor=\"#8b0000\" height=\"1\" colspan=\"2\"><img src=\"/images/space.gif\" border=\"0\" width=\"1\" height=\"5\"></td></tr>\n",
      "</table>\n",
      "\n",
      "</td></tr></table>\n",
      "\n",
      "\t</div>\n",
      "\t</div>\n",
      "\t<div id=\"hp_footer\">\n",
      "\t\t<div style=\"padding-bottom: 20px;\">\n",
      "\n",
      "\t\t\t<div style=\"margin: 0px 121px; vertical-align: top;\">\n",
      "\t\t\t\t<div id=\"footer_links\">\n",
      "\t\t\t\t\t<ul class=\"footer_link_list\">\n",
      "\t\t\t\t\t\t<li><strong>Latest Updates</strong></li>\n",
      "\t\t\t\t\t\t<li><a href=\"/news/?ref=ft\">Movie News</a>\n",
      "\t\t\t\t\t\t<li><a href=\"/daily/chart/?ref=ft\">Daily Chart</a></li>\n",
      "\t\t\t\t\t\t<li><a href=\"/weekend/chart/?ref=ft\">Weekend Chart</a></li>\n",
      "\t\t\t\t\t\t<li><a href=\"/alltime/?ref=ft\">All Time Charts</a></li>\n",
      "\t\t\t\t\t\t<li><a href=\"/intl/?ref=ft\">International Charts</a></li>\n",
      "\t\t\t\t\t</ul>\n",
      "\t\t\t\t\t<!--\n",
      "\t\t\t\t\t<ul class=\"footer_link_list\">\n",
      "\t\t\t\t\t\t<li><strong>Popular Movies</strong></li>\n",
      "\t\t\t\t\t\t\t\t\t\t\t</ul>\n",
      "\t\t\t\t\t-->\n",
      "\t\t\t\t\t<ul class=\"footer_link_list\">\n",
      "\t\t\t\t\t\t<li><strong>Indices</strong></li>\n",
      "\t\t\t\t\t\t<li><a href=\"/people/?ref=ft\">People</a></li>\n",
      "\t\t\t\t\t\t<li><a href=\"/genres/?ref=ft\">Genres</a></li>\n",
      "\t\t\t\t\t\t<li><a href=\"/franchises/?ref=ft\">Franchises</a></li>\n",
      "\t\t\t\t\t\t<li><a href=\"/showdowns/?ref=ft\">Showdowns</a></li>\n",
      "\t\t\t\t\t</ul>\n",
      "\t\t\t\t\t<ul class=\"footer_link_list\">\n",
      "\t\t\t\t\t\t<li><strong>Other</strong></li>\n",
      "\t\t\t\t\t\t<li><a href=\"/about/?ref=ft\">About This Site</a></li>\n",
      "\t\t\t\t\t\t<li><a href=\"/about/advertise.htm?ref=ft\">Advertising</a></li>\n",
      "\t\t\t\t\t</ul>\n",
      "\t\t\t\t</div>\n",
      "\t\t\t\t<div id=\"copyright\">\n",
      "\t\t\t\t\t<a href=\"/?ref=ft\"><img src=\"/img/misc/bom_logo1.png\" width=\"245\" height=\"56\" alt=\"Box Office Mojo\"></a><br>\n",
      "\t\t\t\t\t<p>An <a href=\"http://imdb.com/\"><img src=\"/img/misc/IMDbSm.png\" width=\"34\" height=\"16\" alt=\"IMDb\" valign=\"middle\"></a> company<br><br></p>\n",
      "\t\t\t\t\t<p>&copy; <a href=\"http://imdb.com/\">IMDb.com</a>, Inc. or its affiliates. All rights reserved. Box Office Mojo and IMDb are trademarks or registered trademarks of IMDb.com, Inc. or its affiliates. <a href=\"/about/termsofuse.htm\">Terms of Use</a> and <a href=\"/about/privacy.htm\">Privacy Policy</a> under which this service is provided to you.</p>\n",
      "\t\t\t\t\t</div>\t\t\t\n",
      "\t\t\t\t</div>\n",
      "\t\t\t\t<div style=\"clear:both;\">\n",
      "\t\t\t\t<div>\n",
      "\t\t\t\t <script type=\"text/javascript\">\n",
      "    googletag.cmd.push(function() {\n",
      "        googletag.defineSlot(\"/4215/imdb2.bom.other\", [[728, 90]], \"ad-slot-3\").addService(googletag.pubads().setTargeting(\"p\", \"b\"));\n",
      "        googletag.pubads().enableSingleRequest();\n",
      "        googletag.enableServices();\n",
      "    });\n",
      "    googletag.cmd.push(function() { googletag.display(\"ad-slot-3\"); });\n",
      "</script></div>\n",
      "\n",
      "\t\t\t\t</div>\n",
      "\t</div>\n",
      "</div>\n",
      "\n",
      "\n",
      "\n",
      "\n",
      "\n",
      "<!-- Page generated in 0.10 seconds | . -->\n",
      "<script>\n",
      "  var _comscore = _comscore || [];\n",
      "  _comscore.push({ c1: \"2\", c2: \"6034961\" });\n",
      "  (function() {\n",
      "    var s = document.createElement(\"script\"), el = document.getElementsByTagName(\"script\")[0]; s.async = true;\n",
      "    s.src = (document.location.protocol == \"https:\" ? \"https://sb\" : \"http://b\") + \".scorecardresearch.com/beacon.js\";\n",
      "  el.parentNode.insertBefore(s, el);\n",
      "  })();\n",
      "</script>\n",
      "<noscript>\n",
      "    <img src=\"http://b.scorecardresearch.com/p?c1=2&c2=6034961&cv=2.0&cj=1\" />\n",
      "</noscript>\n",
      "\n",
      "</body>\n",
      "</html>\n",
      "\n"
     ]
    }
   ],
   "source": [
    "print (r.text)"
   ]
  },
  {
   "cell_type": "markdown",
   "metadata": {},
   "source": [
    "### 如何获取2016年wide release的网页呢？"
   ]
  },
  {
   "cell_type": "markdown",
   "metadata": {},
   "source": [
    "## 解析数据"
   ]
  },
  {
   "cell_type": "code",
   "execution_count": 6,
   "metadata": {
    "ExecuteTime": {
     "end_time": "2018-10-24T14:45:08.124991Z",
     "start_time": "2018-10-24T14:45:08.053677Z"
    }
   },
   "outputs": [],
   "source": [
    "soup = BeautifulSoup(r.text, 'lxml')"
   ]
  },
  {
   "cell_type": "markdown",
   "metadata": {},
   "source": [
    "### 获取第一部电影的名称"
   ]
  },
  {
   "cell_type": "code",
   "execution_count": 8,
   "metadata": {
    "ExecuteTime": {
     "end_time": "2018-10-24T14:53:27.272957Z",
     "start_time": "2018-10-24T14:53:27.263292Z"
    }
   },
   "outputs": [],
   "source": [
    "movie = soup.find('tr', attrs={\"bgcolor\": \"#ffffff\"})"
   ]
  },
  {
   "cell_type": "code",
   "execution_count": 11,
   "metadata": {
    "ExecuteTime": {
     "end_time": "2018-10-24T14:53:51.250911Z",
     "start_time": "2018-10-24T14:53:51.246562Z"
    }
   },
   "outputs": [
    {
     "name": "stdout",
     "output_type": "stream",
     "text": [
      "Star Wars: The Last Jedi\n"
     ]
    }
   ],
   "source": [
    "name = movie.contents[1].text\n",
    "print (name)"
   ]
  },
  {
   "cell_type": "markdown",
   "metadata": {},
   "source": [
    "### 获取所有背景是白色的行，电影名称"
   ]
  },
  {
   "cell_type": "code",
   "execution_count": 13,
   "metadata": {
    "ExecuteTime": {
     "end_time": "2018-10-24T14:56:17.994970Z",
     "start_time": "2018-10-24T14:56:17.970079Z"
    }
   },
   "outputs": [],
   "source": [
    "movie_list = soup.find_all('tr', attrs={\"bgcolor\": \"#ffffff\"})"
   ]
  },
  {
   "cell_type": "code",
   "execution_count": 15,
   "metadata": {
    "ExecuteTime": {
     "end_time": "2018-10-24T14:56:49.586669Z",
     "start_time": "2018-10-24T14:56:49.578731Z"
    },
    "scrolled": true
   },
   "outputs": [
    {
     "name": "stdout",
     "output_type": "stream",
     "text": [
      "Star Wars: The Last Jedi\n",
      "Wonder Woman\n",
      "Guardians of the Galaxy Vol. 2\n",
      "It\n",
      "Despicable Me 3\n",
      "Logan (2017)\n",
      "Coco\n",
      "Get Out\n",
      "The Boss Baby\n",
      "Pirates of the Caribbean: Dead Men Tell No Tales\n",
      "Kong: Skull Island\n",
      "War for the Planet of the Apes\n",
      "Wonder\n",
      "Girls Trip\n",
      "Baby Driver\n",
      "Daddy's Home 2\n",
      "Annabelle: Creation\n",
      "Blade Runner 2049\n",
      "The Emoji Movie\n",
      "Ferdinand\n",
      "The Hitman's Bodyguard\n",
      "Captain Underpants: The First Epic Movie\n",
      "A Dog's Purpose\n",
      "The LEGO Ninjago Movie\n",
      "The Shack\n",
      "Happy Death Day\n",
      "Lion\n",
      "American Made\n",
      "Lady Bird\n",
      "Snatched\n",
      "Smurfs: The Lost Village\n",
      "All Eyez on Me\n",
      "47 Meters Down\n",
      "Valerian and the City of a Thousand Planets\n",
      "Ghost in the Shell (2017)\n",
      "Jigsaw\n",
      "The Foreigner\n",
      "Wind River\n",
      "Monster Trucks\n",
      "How to be a Latin Lover\n",
      "Kidnap (2017)\n",
      "The Mountain Between Us\n",
      "The Nut Job 2: Nutty by Nature\n",
      "Logan Lucky\n",
      "Resident Evil: The Final Chapter\n",
      "All the Money in the World\n",
      "Downsizing\n",
      "Victoria and Abdul\n",
      "My Little Pony: The Movie\n",
      "The Disaster Artist\n",
      "$66,162,198\n"
     ]
    }
   ],
   "source": [
    "for movie in movie_list:\n",
    "    name = movie.contents[1].text\n",
    "    print (name)"
   ]
  },
  {
   "cell_type": "markdown",
   "metadata": {},
   "source": [
    "### 获取所有背景是白色的行，电影名称+工作室"
   ]
  },
  {
   "cell_type": "code",
   "execution_count": 25,
   "metadata": {
    "ExecuteTime": {
     "end_time": "2018-10-25T06:23:33.246162Z",
     "start_time": "2018-10-25T06:23:33.242355Z"
    },
    "scrolled": false
   },
   "outputs": [
    {
     "name": "stdout",
     "output_type": "stream",
     "text": [
      "[['Star Wars: The Last Jedi', 'BV'], ['Wonder Woman', 'WB'], ['Guardians of the Galaxy Vol. 2', 'BV'], ['It', 'WB (NL)'], ['Despicable Me 3', 'Uni.'], ['Logan (2017)', 'Fox'], ['Coco', 'BV'], ['Get Out', 'Uni.'], ['The Boss Baby', 'Fox'], ['Pirates of the Caribbean: Dead Men Tell No Tales', 'BV'], ['Kong: Skull Island', 'WB'], ['War for the Planet of the Apes', 'Fox'], ['Wonder', 'LGF'], ['Girls Trip', 'Uni.'], ['Baby Driver', 'TriS'], [\"Daddy's Home 2\", 'Par.'], ['Annabelle: Creation', 'WB (NL)'], ['Blade Runner 2049', 'WB'], ['The Emoji Movie', 'Sony'], ['Ferdinand', 'Fox'], [\"The Hitman's Bodyguard\", 'LG/S'], ['Captain Underpants: The First Epic Movie', 'Fox'], [\"A Dog's Purpose\", 'Uni.'], ['The LEGO Ninjago Movie', 'WB'], ['The Shack', 'LG/S'], ['Happy Death Day', 'Uni.'], ['Lion', 'Wein.'], ['American Made', 'Uni.'], ['Lady Bird', 'A24'], ['Snatched', 'Fox'], ['Smurfs: The Lost Village', 'Sony'], ['All Eyez on Me', 'LG/S'], ['47 Meters Down', 'ENTMP'], ['Valerian and the City of a Thousand Planets', 'STX'], ['Ghost in the Shell (2017)', 'Par.'], ['Jigsaw', 'LGF'], ['The Foreigner', 'STX'], ['Wind River', 'Wein.'], ['Monster Trucks', 'Par.'], ['How to be a Latin Lover', 'PNT'], ['Kidnap (2017)', 'Aviron'], ['The Mountain Between Us', 'Fox'], ['The Nut Job 2: Nutty by Nature', 'ORF'], ['Logan Lucky', 'BST'], ['Resident Evil: The Final Chapter', 'SGem'], ['All the Money in the World', 'TriS'], ['Downsizing', 'Par.'], ['Victoria and Abdul', 'Focus'], ['My Little Pony: The Movie', 'LGF'], ['The Disaster Artist', 'A24'], ['$66,162,198', '-']]\n"
     ]
    }
   ],
   "source": [
    "output_list = []\n",
    "for movie in movie_list:\n",
    "    name = movie.contents[1].text\n",
    "    studio = movie.contents[2].text\n",
    "    output_list.append([name,studio])\n",
    "print (output_list)"
   ]
  },
  {
   "cell_type": "markdown",
   "metadata": {},
   "source": [
    "### 获取所有背景是白色的行，电影名称+工作室+票房 +剧院+首周票房+首周剧院+上映日+下映日"
   ]
  },
  {
   "cell_type": "code",
   "execution_count": 29,
   "metadata": {
    "ExecuteTime": {
     "end_time": "2018-10-25T11:43:25.252676Z",
     "start_time": "2018-10-25T11:43:25.243676Z"
    }
   },
   "outputs": [
    {
     "name": "stdout",
     "output_type": "stream",
     "text": [
      "[['Star Wars: The Last Jedi', 'BV', '620181382', '4232', '220009584', '4232', '12/15', '4/19'], ['Wonder Woman', 'WB', '412563408', '4165', '103251471', '4165', '6/2', '11/9'], ['Guardians of the Galaxy Vol. 2', 'BV', '389813101', '4347', '146510104', '4347', '5/5', '9/21'], ['It', 'WB (NL)', '327481748', '4148', '123403419', '4103', '9/8', '12/14'], ['Despicable Me 3', 'Uni.', '264624300', '4535', '72434025', '4529', '6/30', '12/21'], ['Logan (2017)', 'Fox', '226277068', '4071', '88411916', '4071', '3/3', '7/13'], ['Coco', 'BV', '209726015', '3987', '50802605', '3987', '11/22', '4/26'], ['Get Out', 'Uni.', '176040665', '3143', '33377060', '2781', '2/24', '2/15'], ['The Boss Baby', 'Fox', '175003033', '3829', '50198902', '3773', '3/31', '11/2'], ['Pirates of the Caribbean: Dead Men Tell No Tales', 'BV', '172558876', '4276', '62983253', '4276', '5/26', '9/21'], ['Kong: Skull Island', 'WB', '168052812', '3846', '61025472', '3846', '3/10', '6/15'], ['War for the Planet of the Apes', 'Fox', '146880162', '4100', '56262929', '4022', '7/14', '11/30'], ['Wonder', 'LGF', '132422809', '3519', '27547866', '3096', '11/17', '3/22'], ['Girls Trip', 'Uni.', '115171585', '2648', '31201920', '2591', '7/21', '10/19'], ['Baby Driver', 'TriS', '107825862', '3226', '20553320', '3226', '6/28', '10/19'], [\"Daddy's Home 2\", 'Par.', '104029443', '3575', '29651193', '3575', '11/10', '2/15'], ['Annabelle: Creation', 'WB (NL)', '102092201', '3565', '35006404', '3502', '8/11', '11/2'], ['Blade Runner 2049', 'WB', '92054159', '4058', '32753122', '4058', '10/6', '2/1'], ['The Emoji Movie', 'Sony', '86089513', '4075', '24531923', '4075', '7/28', '11/30'], ['Ferdinand', 'Fox', '84410380', '3630', '13401586', '3621', '12/15', '5/31'], [\"The Hitman's Bodyguard\", 'LG/S', '75468583', '3377', '21384504', '3377', '8/18', '11/2'], ['Captain Underpants: The First Epic Movie', 'Fox', '73921000', '3529', '23851539', '3434', '6/2', '11/2'], [\"A Dog's Purpose\", 'Uni.', '64508620', '3178', '18222810', '3059', '1/27', '5/18'], ['The LEGO Ninjago Movie', 'WB', '59281555', '4047', '20433071', '4047', '9/22', '11/30'], ['The Shack', 'LG/S', '57386418', '2888', '16172119', '2888', '3/3', '5/18'], ['Happy Death Day', 'Uni.', '55683845', '3535', '26039025', '3149', '10/13', '12/14'], ['Lion', 'Wein.', '51738905', '1802', '123360', '4', '1/6', '5/11'], ['American Made', 'Uni.', '51342000', '3098', '16776390', '3024', '9/29', '12/14'], ['Lady Bird', 'A24', '48958273', '1557', '364437', '4', '11/24', '4/5'], ['Snatched', 'Fox', '45852178', '3511', '19542248', '3501', '5/12', '8/3'], ['Smurfs: The Lost Village', 'Sony', '45020282', '3610', '13210449', '3610', '4/7', '8/3'], ['All Eyez on Me', 'LG/S', '44922302', '2471', '26435354', '2471', '6/16', '8/3'], ['47 Meters Down', 'ENTMP', '44307192', '2471', '11205561', '2270', '6/16', '10/19'], ['Valerian and the City of a Thousand Planets', 'STX', '41189488', '3553', '17007624', '3553', '7/21', '9/21'], ['Ghost in the Shell (2017)', 'Par.', '40563557', '3440', '18676033', '3440', '3/31', '5/25'], ['Jigsaw', 'LGF', '38052832', '2941', '16640452', '2941', '10/27', '12/21'], ['The Foreigner', 'STX', '34393507', '2515', '13113024', '2515', '10/13', '12/21'], ['Wind River', 'Wein.', '33800859', '2890', '161558', '4', '8/18', '12/7'], ['Monster Trucks', 'Par.', '33370166', '3119', '10950705', '3119', '1/13', '3/16'], ['How to be a Latin Lover', 'PNT', '32149404', '1203', '12252439', '1118', '4/28', '6/22'], ['Kidnap (2017)', 'Aviron', '30718107', '2418', '10016323', '2378', '8/4', '11/16'], ['The Mountain Between Us', 'Fox', '30348555', '3259', '10551336', '3088', '10/6', '12/21'], ['The Nut Job 2: Nutty by Nature', 'ORF', '28370522', '4003', '8342311', '4003', '8/11', '9/28'], ['Logan Lucky', 'BST', '27780977', '3031', '7600036', '3031', '8/18', '11/9'], ['Resident Evil: The Final Chapter', 'SGem', '26830068', '3104', '13601682', '3104', '1/27', '3/30'], ['All the Money in the World', 'TriS', '25113707', '2123', '5584684', '2074', '12/25', '3/22'], ['Downsizing', 'Par.', '24449754', '2668', '4954287', '2668', '12/22', '2/1'], ['Victoria and Abdul', 'Focus', '22245070', '1060', '158845', '4', '10/6', '1/4'], ['My Little Pony: The Movie', 'LGF', '21885107', '2528', '8885899', '2528', '10/6', '-'], ['The Disaster Artist', 'A24', '21120616', '1010', '1211345', '19', '12/8', '3/8']]\n"
     ]
    }
   ],
   "source": [
    "output_list = []\n",
    "for movie in movie_list:\n",
    "    try:\n",
    "        name = movie.contents[1].text\n",
    "        studio = movie.contents[2].text\n",
    "        total_gross = movie.contents[3].text.replace(',','').replace('$','')\n",
    "        total_thea = movie.contents[4].text.replace(',','')\n",
    "        open_gross = movie.contents[5].text.replace(',','').replace('$','')\n",
    "        open_thea = movie.contents[6].text.replace(',','')\n",
    "        open_date = movie.contents[7].text\n",
    "        close_date = movie.contents[8].text\n",
    "        output_list.append([name, studio, total_gross, total_thea, open_gross, open_thea, open_date, close_date])\n",
    "    except Exception as e:\n",
    "        pass\n",
    "print (output_list)"
   ]
  },
  {
   "cell_type": "markdown",
   "metadata": {},
   "source": [
    "## 储存数据"
   ]
  },
  {
   "cell_type": "code",
   "execution_count": 31,
   "metadata": {
    "ExecuteTime": {
     "end_time": "2018-10-25T11:44:28.345001Z",
     "start_time": "2018-10-25T11:44:28.329266Z"
    }
   },
   "outputs": [],
   "source": [
    "import csv"
   ]
  },
  {
   "cell_type": "code",
   "execution_count": 32,
   "metadata": {
    "ExecuteTime": {
     "end_time": "2018-10-25T11:44:28.872280Z",
     "start_time": "2018-10-25T11:44:28.866217Z"
    }
   },
   "outputs": [],
   "source": [
    "with open('box2017.csv', 'a+', encoding='UTF-8', newline='') as csvfile:\n",
    "    w = csv.writer(csvfile)\n",
    "    w.writerows(output_list)"
   ]
  },
  {
   "cell_type": "markdown",
   "metadata": {},
   "source": [
    "## 练习"
   ]
  },
  {
   "cell_type": "markdown",
   "metadata": {},
   "source": [
    "### 获取所有背景是紫色的行，电影名称+票房"
   ]
  },
  {
   "cell_type": "code",
   "execution_count": 21,
   "metadata": {
    "ExecuteTime": {
     "end_time": "2018-10-25T05:31:15.409829Z",
     "start_time": "2018-10-25T05:31:15.383324Z"
    }
   },
   "outputs": [],
   "source": [
    "movie_list2 = soup.find_all('tr', attrs={\"bgcolor\": \"#f4f4ff\"})"
   ]
  },
  {
   "cell_type": "code",
   "execution_count": 33,
   "metadata": {
    "ExecuteTime": {
     "end_time": "2018-10-25T11:45:12.318016Z",
     "start_time": "2018-10-25T11:45:12.309810Z"
    },
    "scrolled": true
   },
   "outputs": [
    {
     "name": "stdout",
     "output_type": "stream",
     "text": [
      "[['Beauty and the Beast (2017)', 'BV', '504014165', '4210', '174750616', '4210', '3/17', '7/13'], ['Jumanji: Welcome to the Jungle', 'Sony', '404515480', '3849', '36169328', '3765', '12/20', '5/31'], ['Spider-Man: Homecoming', 'Sony', '334201140', '4348', '117027503', '4348', '7/7', '11/30'], ['Thor: Ragnarok', 'BV', '315058289', '4080', '122744989', '4080', '11/3', '3/15'], ['Justice League', 'WB', '229024295', '4051', '93842239', '4051', '11/17', '3/15'], ['The Fate of the Furious', 'Uni.', '226008385', '4329', '98786705', '4310', '4/14', '8/10'], ['Dunkirk', 'WB', '188045546', '4014', '50513488', '3720', '7/21', '11/23'], ['The LEGO Batman Movie', 'WB', '175750384', '4088', '53003468', '4088', '2/10', '6/8'], ['The Greatest Showman', 'Fox', '174340174', '3342', '8805843', '3006', '12/20', '7/26'], ['Hidden Figures', 'Fox', '169607287', '3416', '515499', '25', '1/6', '11/9'], ['Cars 3', 'BV', '152901115', '4256', '53688680', '4256', '6/16', '11/2'], ['Split', 'Uni.', '138291365', '3373', '40010975', '3038', '1/20', '5/11'], ['Transformers: The Last Knight', 'Par.', '130168683', '4132', '44680073', '4069', '6/21', '8/24'], ['Fifty Shades Darker', 'Uni.', '114581250', '3714', '46607250', '3710', '2/10', '4/6'], ['Pitch Perfect 3', 'Uni.', '104897530', '3468', '19928525', '3447', '12/22', '3/8'], ['Murder on the Orient Express (2017)', 'Fox', '102826543', '3354', '28681472', '3341', '11/10', '-'], ['Kingsman: The Golden Circle', 'Fox', '100234838', '4038', '39023010', '4003', '9/22', '1/4'], ['John Wick: Chapter Two', 'LG/S', '92029184', '3113', '30436123', '3113', '2/10', '4/27'], ['Power Rangers (2017)', 'LGF', '85364450', '3693', '40300288', '3693', '3/24', '6/1'], ['The Mummy (2017)', 'Uni.', '80227895', '4035', '31688375', '4035', '6/9', '8/24'], ['Alien: Covenant', 'Fox', '74262031', '3772', '36160621', '3761', '5/19', '8/31'], ['A Bad Moms Christmas', 'STX', '72110659', '3615', '16759161', '3615', '11/1', '1/11'], ['The Shape of Water', 'FoxS', '63859435', '2341', '166564', '2', '12/22', '5/3'], ['Baywatch', 'Par.', '58060186', '3647', '18503871', '3647', '5/25', '7/27'], ['Darkest Hour', 'Focus', '56468410', '1733', '175006', '4', '12/22', '4/12'], ['Three Billboards Outside Ebbing, Missouri', 'FoxS', '54513740', '1726', '322168', '4', '12/1', '5/3'], ['Atomic Blonde', 'Focus', '51687870', '3326', '18286420', '3304', '7/28', '10/5'], ['The Dark Tower', 'Sony', '50701325', '3451', '19153698', '3451', '8/4', '10/19'], [\"Tyler Perry's Boo 2! A Madea Halloween\", 'LGF', '47319572', '2388', '21226953', '2388', '10/20', '12/14'], ['The Great Wall', 'Uni.', '45540830', '3328', '18469620', '3326', '2/17', '6/1'], ['Going in Style (2017)', 'WB (NL)', '45018541', '3076', '11932330', '3061', '4/7', '7/13'], ['xXx: The Return of Xander Cage', 'Par.', '44898413', '3651', '20130142', '3651', '1/20', '3/16'], ['The Big Sick', 'LGF', '42873127', '2597', '421577', '5', '7/14', '10/22'], ['The Star', 'Sony', '40852824', '2976', '9812674', '2837', '11/17', '2/15'], ['King Arthur: Legend of the Sword', 'WB', '39175066', '3702', '15371270', '3702', '5/12', '7/20'], ['American Assassin', 'LGF', '36249674', '3154', '14846778', '3154', '9/15', '11/9'], ['Everything, Everything', 'WB', '34121140', '2801', '11727390', '2801', '5/19', '7/27'], ['Geostorm', 'WB', '33700160', '3246', '13707376', '3246', '10/20', '1/11'], ['Fist Fight', 'WB (NL)', '32187017', '3185', '12201873', '3185', '2/17', '4/13'], ['Patriots Day', 'LGF', '31886361', '3120', '161306', '7', '1/13', '3/9'], ['Underworld: Blood Wars', 'SGem', '30353973', '3070', '13688751', '3070', '1/6', '3/9'], ['Life (2017)', 'Sony', '30234022', '3146', '12501936', '3146', '3/24', '6/1'], ['Rings', 'Par.', '27793018', '2931', '13002632', '2931', '2/3', '3/23'], ['Home Again', 'ORF', '27020284', '3036', '8567881', '2940', '9/8', '11/9'], ['The House', 'WB (NL)', '25584504', '3134', '8724795', '3134', '6/30', '8/31'], ['Gifted', 'FoxS', '24801212', '2215', '446380', '56', '4/12', '8/24'], ['The Bye Bye Man', 'STX', '22395806', '2220', '13501349', '2220', '1/13', '2/16'], ['Rough Night', 'Sony', '22105643', '3162', '8004283', '3162', '6/16', '8/31'], ['Leap!', 'Wein.', '21858070', '2705', '4730038', '2575', '8/25', '12/7'], ['Sleepless', 'ORF', '20783704', '1803', '8344128', '1803', '1/13', '3/9']]\n"
     ]
    }
   ],
   "source": [
    "output_list = []\n",
    "for movie in movie_list2:\n",
    "    try:\n",
    "        name = movie.contents[1].text\n",
    "        studio = movie.contents[2].text\n",
    "        total_gross = movie.contents[3].text.replace(',','').replace('$','')\n",
    "        total_thea = movie.contents[4].text.replace(',','')\n",
    "        open_gross = movie.contents[5].text.replace(',','').replace('$','')\n",
    "        open_thea = movie.contents[6].text.replace(',','')\n",
    "        open_date = movie.contents[7].text\n",
    "        close_date = movie.contents[8].text\n",
    "        output_list.append([name, studio, total_gross, total_thea, open_gross, open_thea, open_date, close_date])\n",
    "    except Exception as e:\n",
    "        pass\n",
    "print (output_list)"
   ]
  },
  {
   "cell_type": "code",
   "execution_count": 34,
   "metadata": {
    "ExecuteTime": {
     "end_time": "2018-10-25T11:45:22.062503Z",
     "start_time": "2018-10-25T11:45:22.057108Z"
    }
   },
   "outputs": [],
   "source": [
    "with open('box2017.csv', 'a+', encoding='UTF-8', newline='') as csvfile:\n",
    "    w = csv.writer(csvfile)\n",
    "    w.writerows(output_list)"
   ]
  },
  {
   "cell_type": "code",
   "execution_count": null,
   "metadata": {},
   "outputs": [],
   "source": []
  }
 ],
 "metadata": {
  "kernelspec": {
   "display_name": "Python 3",
   "language": "python",
   "name": "python3"
  },
  "language_info": {
   "codemirror_mode": {
    "name": "ipython",
    "version": 3
   },
   "file_extension": ".py",
   "mimetype": "text/x-python",
   "name": "python",
   "nbconvert_exporter": "python",
   "pygments_lexer": "ipython3",
   "version": "3.6.5"
  },
  "toc": {
   "base_numbering": 1,
   "nav_menu": {},
   "number_sections": true,
   "sideBar": true,
   "skip_h1_title": false,
   "title_cell": "Table of Contents",
   "title_sidebar": "Contents",
   "toc_cell": false,
   "toc_position": {},
   "toc_section_display": true,
   "toc_window_display": false
  }
 },
 "nbformat": 4,
 "nbformat_minor": 2
}
